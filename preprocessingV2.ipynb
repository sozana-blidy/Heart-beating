{
  "cells": [
    {
      "cell_type": "markdown",
      "metadata": {
        "id": "qVR0kiSRvW_C"
      },
      "source": [
        "Mounting with Drive:"
      ]
    },
    {
      "cell_type": "code",
      "execution_count": 2,
      "metadata": {
        "colab": {
          "base_uri": "https://localhost:8080/"
        },
        "id": "mv3zckzN6Zii",
        "outputId": "c652b422-5cf4-4748-e486-6baa27c40f41"
      },
      "outputs": [
        {
          "output_type": "stream",
          "name": "stdout",
          "text": [
            "Mounted at /content/drive\n"
          ]
        }
      ],
      "source": [
        "from google.colab import drive \n",
        "drive.mount('/content/drive') "
      ]
    },
    {
      "cell_type": "markdown",
      "metadata": {
        "id": "Myneyc_kvdaw"
      },
      "source": [
        "Import important libraries"
      ]
    },
    {
      "cell_type": "code",
      "execution_count": 3,
      "metadata": {
        "id": "RJRf7KHkxal1"
      },
      "outputs": [],
      "source": [
        "import pandas as pd\n",
        "import numpy as np\n",
        "import matplotlib.pyplot as plt\n",
        "from os import listdir\n",
        "import os\n"
      ]
    },
    {
      "cell_type": "code",
      "execution_count": 4,
      "metadata": {
        "id": "l5hKbDPoxal5"
      },
      "outputs": [],
      "source": [
        "# data path in drive\n",
        "data_path = '/content/drive/MyDrive/ECG-IDpreprocessing/ecg-id-database-1.0.0/'\n"
      ]
    },
    {
      "cell_type": "code",
      "execution_count": 5,
      "metadata": {
        "id": "R30x0fPoike2"
      },
      "outputs": [],
      "source": [
        "# store just patients folders in pts list:\n",
        "pts=[]\n",
        "for i in os.listdir(data_path):\n",
        "    pts.append(i)\n",
        "## pts is a list, and we can add elements on a list in python by (append).\n",
        "## So we add all the files that exists in data_path"
      ]
    },
    {
      "cell_type": "code",
      "execution_count": 6,
      "metadata": {
        "colab": {
          "base_uri": "https://localhost:8080/"
        },
        "id": "02H7sUe8lM9L",
        "outputId": "d4c7854f-d3ef-4291-804b-c0d80a2baa80"
      },
      "outputs": [
        {
          "output_type": "execute_result",
          "data": {
            "text/plain": [
              "['Person_88',\n",
              " 'Person_89',\n",
              " 'Person_87',\n",
              " 'Person_85',\n",
              " 'Person_90',\n",
              " 'Person_83',\n",
              " 'Person_86',\n",
              " 'Person_81',\n",
              " 'Person_82',\n",
              " 'Person_84',\n",
              " 'Person_79',\n",
              " 'Person_78',\n",
              " 'Person_75',\n",
              " 'Person_73',\n",
              " 'Person_80',\n",
              " 'Person_72',\n",
              " 'Person_76',\n",
              " 'Person_77',\n",
              " 'Person_71',\n",
              " 'Person_74',\n",
              " 'Person_65',\n",
              " 'Person_69',\n",
              " 'Person_66',\n",
              " 'Person_67',\n",
              " 'Person_68',\n",
              " 'Person_62',\n",
              " 'Person_63',\n",
              " 'Person_70',\n",
              " 'Person_64',\n",
              " 'Person_61',\n",
              " 'Person_55',\n",
              " 'Person_51',\n",
              " 'Person_52',\n",
              " 'Person_54',\n",
              " 'Person_53',\n",
              " 'Person_56',\n",
              " 'Person_57',\n",
              " 'Person_60',\n",
              " 'Person_58',\n",
              " 'Person_59',\n",
              " 'Person_44',\n",
              " 'Person_46',\n",
              " 'Person_47',\n",
              " 'Person_50',\n",
              " 'Person_42',\n",
              " 'Person_43',\n",
              " 'Person_49',\n",
              " 'Person_45',\n",
              " 'Person_48',\n",
              " 'Person_41',\n",
              " 'Person_34',\n",
              " 'Person_37',\n",
              " 'Person_33',\n",
              " 'Person_38',\n",
              " 'Person_35',\n",
              " 'Person_32',\n",
              " 'Person_31',\n",
              " 'Person_39',\n",
              " 'Person_36',\n",
              " 'Person_40',\n",
              " 'Person_30',\n",
              " 'Person_29',\n",
              " 'Person_21',\n",
              " 'Person_23',\n",
              " 'Person_22',\n",
              " 'Person_28',\n",
              " 'Person_27',\n",
              " 'Person_24',\n",
              " 'Person_26',\n",
              " 'Person_25',\n",
              " 'Person_14',\n",
              " 'Person_18',\n",
              " 'Person_12',\n",
              " 'Person_15',\n",
              " 'Person_17',\n",
              " 'Person_20',\n",
              " 'Person_11',\n",
              " 'Person_16',\n",
              " 'Person_19',\n",
              " 'Person_13',\n",
              " 'Person_05',\n",
              " 'Person_02',\n",
              " 'Person_07',\n",
              " 'Person_01',\n",
              " 'Person_04',\n",
              " 'Person_10',\n",
              " 'Person_03',\n",
              " 'Person_06',\n",
              " 'Person_09',\n",
              " 'Person_08']"
            ]
          },
          "metadata": {},
          "execution_count": 6
        }
      ],
      "source": [
        "pts"
      ]
    },
    {
      "cell_type": "markdown",
      "metadata": {
        "id": "BhF5AUAkyE5X"
      },
      "source": [
        "## **WFDB**:  is a set of functions (subroutines) for reading and writing files in the formats used by PhysioBank databases \n",
        "\n",
        "you can see more detailes in the link below:\n",
        "https://wfdb.readthedocs.io/en/latest/"
      ]
    },
    {
      "cell_type": "code",
      "execution_count": 7,
      "metadata": {
        "colab": {
          "base_uri": "https://localhost:8080/"
        },
        "id": "sXS4qmq37Z8J",
        "outputId": "e44b7cb0-3972-4392-f03e-e211da46d90d"
      },
      "outputs": [
        {
          "output_type": "stream",
          "name": "stdout",
          "text": [
            "Looking in indexes: https://pypi.org/simple, https://us-python.pkg.dev/colab-wheels/public/simple/\n",
            "Collecting wfdb\n",
            "  Downloading wfdb-4.1.0-py3-none-any.whl (159 kB)\n",
            "\u001b[2K     \u001b[90m━━━━━━━━━━━━━━━━━━━━━━━━━━━━━━━━━━━━━━━\u001b[0m \u001b[32m159.9/159.9 KB\u001b[0m \u001b[31m4.9 MB/s\u001b[0m eta \u001b[36m0:00:00\u001b[0m\n",
            "\u001b[?25hRequirement already satisfied: matplotlib<4.0.0,>=3.2.2 in /usr/local/lib/python3.8/dist-packages (from wfdb) (3.2.2)\n",
            "Requirement already satisfied: pandas<2.0.0,>=1.0.0 in /usr/local/lib/python3.8/dist-packages (from wfdb) (1.3.5)\n",
            "Requirement already satisfied: requests<3.0.0,>=2.8.1 in /usr/local/lib/python3.8/dist-packages (from wfdb) (2.25.1)\n",
            "Requirement already satisfied: scipy<2.0.0,>=1.0.0 in /usr/local/lib/python3.8/dist-packages (from wfdb) (1.7.3)\n",
            "Requirement already satisfied: numpy<2.0.0,>=1.10.1 in /usr/local/lib/python3.8/dist-packages (from wfdb) (1.21.6)\n",
            "Requirement already satisfied: SoundFile<0.12.0,>=0.10.0 in /usr/local/lib/python3.8/dist-packages (from wfdb) (0.11.0)\n",
            "Requirement already satisfied: kiwisolver>=1.0.1 in /usr/local/lib/python3.8/dist-packages (from matplotlib<4.0.0,>=3.2.2->wfdb) (1.4.4)\n",
            "Requirement already satisfied: cycler>=0.10 in /usr/local/lib/python3.8/dist-packages (from matplotlib<4.0.0,>=3.2.2->wfdb) (0.11.0)\n",
            "Requirement already satisfied: pyparsing!=2.0.4,!=2.1.2,!=2.1.6,>=2.0.1 in /usr/local/lib/python3.8/dist-packages (from matplotlib<4.0.0,>=3.2.2->wfdb) (3.0.9)\n",
            "Requirement already satisfied: python-dateutil>=2.1 in /usr/local/lib/python3.8/dist-packages (from matplotlib<4.0.0,>=3.2.2->wfdb) (2.8.2)\n",
            "Requirement already satisfied: pytz>=2017.3 in /usr/local/lib/python3.8/dist-packages (from pandas<2.0.0,>=1.0.0->wfdb) (2022.7.1)\n",
            "Requirement already satisfied: chardet<5,>=3.0.2 in /usr/local/lib/python3.8/dist-packages (from requests<3.0.0,>=2.8.1->wfdb) (4.0.0)\n",
            "Requirement already satisfied: idna<3,>=2.5 in /usr/local/lib/python3.8/dist-packages (from requests<3.0.0,>=2.8.1->wfdb) (2.10)\n",
            "Requirement already satisfied: certifi>=2017.4.17 in /usr/local/lib/python3.8/dist-packages (from requests<3.0.0,>=2.8.1->wfdb) (2022.12.7)\n",
            "Requirement already satisfied: urllib3<1.27,>=1.21.1 in /usr/local/lib/python3.8/dist-packages (from requests<3.0.0,>=2.8.1->wfdb) (1.24.3)\n",
            "Requirement already satisfied: cffi>=1.0 in /usr/local/lib/python3.8/dist-packages (from SoundFile<0.12.0,>=0.10.0->wfdb) (1.15.1)\n",
            "Requirement already satisfied: pycparser in /usr/local/lib/python3.8/dist-packages (from cffi>=1.0->SoundFile<0.12.0,>=0.10.0->wfdb) (2.21)\n",
            "Requirement already satisfied: six>=1.5 in /usr/local/lib/python3.8/dist-packages (from python-dateutil>=2.1->matplotlib<4.0.0,>=3.2.2->wfdb) (1.15.0)\n",
            "Installing collected packages: wfdb\n",
            "Successfully installed wfdb-4.1.0\n"
          ]
        }
      ],
      "source": [
        "# intall wfdb library:\n",
        "!pip install wfdb\n"
      ]
    },
    {
      "cell_type": "code",
      "execution_count": 8,
      "metadata": {
        "id": "XunoaDqRxal6"
      },
      "outputs": [],
      "source": [
        "import wfdb"
      ]
    },
    {
      "cell_type": "code",
      "execution_count": 9,
      "metadata": {
        "id": "IV_LLj4jmt0K"
      },
      "outputs": [],
      "source": [
        "df = pd.DataFrame()\n",
        "import os \n",
        "for pt in pts: \n",
        "    file = data_path + pt+'/'\n",
        "    \n",
        "    for i in os.listdir(file):\n",
        "        k= file+i[:-4] \n",
        "      \n",
        "        annotation = wfdb.rdann(k, 'atr')\n",
        "        sym = annotation.symbol\n",
        "        values, counts = np.unique(sym, return_counts=True)\n",
        "        df_sub = pd.DataFrame({'sym':values, 'val':counts, 'pt':[pt]*len(counts)})\n",
        "        df = pd.concat([df, df_sub],axis = 0)\n",
        "## dataframes in pandas library allow us to deal with data simply by visulization it in tables.\n",
        "## In df_sub dataframe we have three columns, Sym, val, pt and then combine all the sub dfs in one dataframe which is df."
      ]
    },
    {
      "cell_type": "code",
      "execution_count": 10,
      "metadata": {
        "id": "qUPAYfiqxal7"
      },
      "outputs": [],
      "source": [
        "import os\n",
        "for participant in pts:\n",
        "    files = os.listdir(data_path + participant)\n",
        "    # print(\"files: \",files)\n",
        "    if len([x for x in files if '.dat' in x]) > 0: \n",
        "        file = [x for x in files if '.dat' in x][0].split(\".\")[0]\n",
        "        # print(\"file: \", file) \n",
        "        signals, info = wfdb.rdsamp(data_path + participant + \"/\" + file)\n",
        "## here, in for loop we pass on all the patients and for each one, we check if the dat files in it are > 0 or not\n",
        "## by using if conditions and then extract the signals and the information from it."
      ]
    },
    {
      "cell_type": "code",
      "execution_count": 11,
      "metadata": {
        "colab": {
          "base_uri": "https://localhost:8080/"
        },
        "id": "L1EtSywgxal8",
        "outputId": "5573d338-0acf-4bb5-f0bf-226b459c2ee8"
      },
      "outputs": [
        {
          "output_type": "execute_result",
          "data": {
            "text/plain": [
              "sym\n",
              "N    9330\n",
              "t    9330\n",
              "Name: val, dtype: int64"
            ]
          },
          "metadata": {},
          "execution_count": 11
        }
      ],
      "source": [
        "#we will group or dataframe based on symbols which are N: abnormal and t: inverted\"non beat\"\n",
        "df.groupby('sym').val.sum().sort_values(ascending = False)\n",
        "## groupby is afunction in pandas allow us to group our dataframe by a specefic column, in our case sym.\n"
      ]
    },
    {
      "cell_type": "code",
      "execution_count": 12,
      "metadata": {
        "id": "6Oo8Mva-xal9"
      },
      "outputs": [],
      "source": [
        "#we will use this function to load the most three important things in the database\n",
        "# which are signal, symbols, and samples.\n",
        "def load_ecg(file):\n",
        "\n",
        "    record = wfdb.rdrecord(file)\n",
        "    # load the annotation\n",
        "    annotation = wfdb.rdann(file, 'atr')\n",
        "    \n",
        "    # extract the signal\n",
        "    p_signal = record.p_signal\n",
        "    \n",
        "    # verify frequency is 500\n",
        "    assert record.fs == 500, 'sample freq is not 360'\n",
        "    \n",
        "    # extract symbols and annotation index\n",
        "    atr_sym = annotation.symbol\n",
        "    atr_sample = annotation.sample\n",
        "    \n",
        "    return p_signal, atr_sym, atr_sample \n",
        "## load_ecg function is clear, we just load the annotations and signal then extract symbols from them."
      ]
    },
    {
      "cell_type": "code",
      "execution_count": 13,
      "metadata": {
        "id": "LDPW1HMlwmsp"
      },
      "outputs": [],
      "source": [
        "\n",
        "# now we will create two lists, one for nonbeat symbols(t) and the other for abnormal symbols(N)\n",
        "nonbeat=['t']\n",
        "abnormal=['N'] \n",
        "## two lists to classify the signals."
      ]
    },
    {
      "cell_type": "markdown",
      "source": [
        "This an example of applying load_ecg() in one record:"
      ],
      "metadata": {
        "id": "RpqdRtKx_e88"
      }
    },
    {
      "cell_type": "code",
      "execution_count": 21,
      "metadata": {
        "id": "vBbamF06xal9"
      },
      "outputs": [],
      "source": [
        "file = data_path + pts[0]+'/rec_1'"
      ]
    },
    {
      "cell_type": "code",
      "execution_count": null,
      "metadata": {
        "id": "RZzyHf3mxal-"
      },
      "outputs": [],
      "source": [
        "p_signal, atr_sym, atr_sample = load_ecg(file)"
      ]
    },
    {
      "cell_type": "code",
      "execution_count": null,
      "metadata": {
        "colab": {
          "base_uri": "https://localhost:8080/"
        },
        "id": "sdTc4m4sxal_",
        "outputId": "d9bc5db7-6ca2-4f3d-f962-1909d26b0fca"
      },
      "outputs": [
        {
          "name": "stdout",
          "output_type": "stream",
          "text": [
            "N 10\n",
            "t 10\n"
          ]
        }
      ],
      "source": [
        "values, counts = np.unique(sym, return_counts=True)\n",
        "for v,c in zip(values, counts):\n",
        "    print(v,c)"
      ]
    },
    {
      "cell_type": "code",
      "execution_count": 28,
      "metadata": {
        "id": "8zZBsVzlwm9M"
      },
      "outputs": [],
      "source": [
        "# get abnormal beat index\n",
        "ab_index = [b for a,b in zip(atr_sym,atr_sample) if a in abnormal][:10]\n",
        "ab_index\n",
        "## for loop pass on the extracted symbols and annotation index to get just the abnormal beats and save it in ab_index list."
      ]
    },
    {
      "cell_type": "code",
      "execution_count": null,
      "metadata": {
        "id": "sbUKfvxvw6Ul"
      },
      "outputs": [],
      "source": [
        "x = np.arange(len(p_signal))\n",
        "# to get evenly spaced values from p_signal  "
      ]
    },
    {
      "cell_type": "code",
      "execution_count": null,
      "metadata": {
        "colab": {
          "base_uri": "https://localhost:8080/"
        },
        "id": "nzYxho8xKMOh",
        "outputId": "50c81cd9-3fb4-436c-e06a-b1c3a0acdd5a"
      },
      "outputs": [
        {
          "data": {
            "text/plain": [
              "831"
            ]
          },
          "execution_count": 37,
          "metadata": {},
          "output_type": "execute_result"
        }
      ],
      "source": [
        "ab_index[1]"
      ]
    },
    {
      "cell_type": "code",
      "execution_count": null,
      "metadata": {
        "colab": {
          "base_uri": "https://localhost:8080/",
          "height": 280
        },
        "id": "0KXDlPcmw__W",
        "outputId": "23206a17-460e-4db8-b72a-a9407fbf5e70"
      },
      "outputs": [
        {
          "data": {
            "image/png": "[encoded data removed]",
            "text/plain": [
              "<Figure size 432x288 with 1 Axes>"
            ]
          },
          "metadata": {},
          "output_type": "display_data"
        }
      ],
      "source": [
        "left = ab_index[1]-415\n",
        "right = ab_index[1]+415\n",
        "\n",
        "plt.plot(x[left:right],p_signal[left:right,0],'-',label='ecg',)\n",
        "plt.plot(x[atr_sample],p_signal[atr_sample,0],'go',label ='normal')\n",
        "plt.plot(x[ab_index],p_signal[ab_index,0],'ro',label='abnormal')\n",
        "\n",
        "plt.xlim(left,right)\n",
        "plt.ylim(p_signal[left:right].min()-0.05,p_signal[left:right,0].max()+0.05)\n",
        "plt.xlabel('time index')\n",
        "plt.ylabel('ECG signal')\n",
        "plt.legend(bbox_to_anchor = (1.04,1), loc = 'upper left')\n",
        "plt.show()\n",
        "## here, to plot a signal using matplot library we need to determine the classes (ecg, normal, abnormal) \n",
        "## also the axis (500-1200) for time and (-0.5..0.3) for the signal and this is done by using standard instructions in this library."
      ]
    },
    {
      "cell_type": "markdown",
      "source": [
        "End of the example."
      ],
      "metadata": {
        "id": "LoD3FB8b_n3Q"
      }
    },
    {
      "cell_type": "code",
      "execution_count": 14,
      "metadata": {
        "id": "fqdf5N1NHlum"
      },
      "outputs": [],
      "source": [
        "def make_dataset(pts, num_sec, fs, abnormal):\n",
        "    # function for making dataset ignoring non-beats\n",
        "    # input:\n",
        "    # pts - list of patients\n",
        "    # num_sec = number of seconds to include before and after the beat\n",
        "    # fs = frequency\n",
        "    # output: \n",
        "    #   X_all = signal (nbeats , num_sec * fs columns)\n",
        "    #   Y_all = binary is abnormal (nbeats, 1)\n",
        "    #   sym_all = beat annotation symbol (nbeats,1)\n",
        "    \n",
        "    # initialize numpy arrays\n",
        "    num_cols = 2*num_sec * fs\n",
        "    X_all = np.zeros((1,num_cols))\n",
        "    Y_all = np.zeros((1,1))\n",
        "    sym_all = []\n",
        "    \n",
        "    # list to keep track of number of beats across patients\n",
        "    max_rows = []\n",
        "    \n",
        "    for pt in pts:\n",
        "        file = data_path + pt+'/rec_2'\n",
        "        \n",
        "        p_signal, atr_sym, atr_sample = load_ecg(file)\n",
        "        \n",
        "        # grab the first signal\n",
        "        p_signal = p_signal[:,0]\n",
        "        \n",
        "        # make df to exclude the nonbeats\n",
        "        df_ann = pd.DataFrame({'atr_sym':atr_sym,\n",
        "                              'atr_sample':atr_sample})\n",
        "        df_ann = df_ann.loc[df_ann.atr_sym.isin(abnormal + ['N'])]\n",
        "                            \n",
        "        X,Y,sym = build_XY(p_signal,df_ann, num_cols, abnormal)\n",
        "        sym_all = sym_all+sym\n",
        "        max_rows.append(X.shape[0])\n",
        "        X_all = np.append(X_all,X,axis = 0)\n",
        "        Y_all = np.append(Y_all,Y,axis = 0)\n",
        "    # drop the first zero row\n",
        "    X_all = X_all[1:,:]\n",
        "    Y_all = Y_all[1:,:]\n",
        "    \n",
        "    # check sizes make sense\n",
        "    assert np.sum(max_rows) == X_all.shape[0], 'number of X, max_rows rows messed up'\n",
        "    assert Y_all.shape[0] == X_all.shape[0], 'number of X, Y rows messed up'\n",
        "    assert Y_all.shape[0] == len(sym_all), 'number of Y, sym rows messed up'\n",
        "\n",
        "    return X_all, Y_all, sym_all\n",
        "                            \n",
        "## first of all, To intialize the arryas, we need to determine the shape of X_ALL, Y_ALL.\n",
        "## X_all at the first, is a zero array ,with shape( 1, 2*3*500), which mean an array with all the values in it are zeros.\n",
        "## this can be done by using np.zeros().\n",
        "## y_all is also a zero array but with shape (1,1).\n",
        "## Now, for each signal in our data, we need to load it by load_ecg function, then delete the nonbeat signals\n",
        "## by using dataframe.loc which link all the abnormal beats with Symbol N.\n",
        "## Now we call the function build_XY then update the values of x_all, y_all, sym_all arrays\n"
      ]
    },
    {
      "cell_type": "code",
      "source": [
        "def build_XY(p_signal, df_ann, num_cols, abnormal):\n",
        "    # this function builds the X,Y matrices for each beat\n",
        "    # it also returns the original symbols for Y\n",
        "    \n",
        "    num_rows = len(df_ann)\n",
        "\n",
        "    X = np.zeros((num_rows, num_cols))\n",
        "    Y = np.zeros((num_rows,1))\n",
        "    sym = []\n",
        "    \n",
        "    # keep track of rows\n",
        "    max_row = 0\n",
        "\n",
        "    for atr_sample, atr_sym in zip(df_ann.atr_sample.values,df_ann.atr_sym.values):\n",
        "\n",
        "        left = max([0,(atr_sample - num_sec*fs) ])\n",
        "        right = min([len(p_signal),(atr_sample + num_sec*fs) ])\n",
        "        x = p_signal[left: right]\n",
        "        if len(x) == num_cols:\n",
        "            X[max_row,:] = x\n",
        "            Y[max_row,:] = int(atr_sym in abnormal)\n",
        "            sym.append(atr_sym)\n",
        "            max_row += 1\n",
        "    X = X[:max_row,:]\n",
        "    Y = Y[:max_row,:]\n",
        "    return X,Y,sym\n"
      ],
      "metadata": {
        "id": "6NaJ40cAOY2N"
      },
      "execution_count": 15,
      "outputs": []
    },
    {
      "cell_type": "code",
      "execution_count": 16,
      "metadata": {
        "id": "B-5pNoqYHnMu"
      },
      "outputs": [],
      "source": [
        "# number of seconds in this database is 3 and the frequencey is 500\n",
        "num_sec = 3\n",
        "fs = 500"
      ]
    },
    {
      "cell_type": "code",
      "execution_count": 17,
      "metadata": {
        "id": "rg0ay9DXHlyC"
      },
      "outputs": [],
      "source": [
        "X_all, Y_all, sym_all = make_dataset(pts, num_sec, fs, abnormal)"
      ]
    },
    {
      "cell_type": "code",
      "execution_count": 18,
      "metadata": {
        "colab": {
          "base_uri": "https://localhost:8080/"
        },
        "id": "y6jg2-RNxhr7",
        "outputId": "2f5f3b3e-104a-48af-eaa2-392b3065a964"
      },
      "outputs": [
        {
          "output_type": "execute_result",
          "data": {
            "text/plain": [
              "array([[-0.195, -0.6  , -0.96 , ...,  0.205,  0.51 ,  0.095],\n",
              "       [-0.585, -0.415, -0.35 , ..., -0.245, -0.79 , -0.655],\n",
              "       [ 0.01 , -0.465, -0.975, ...,  0.09 ,  0.675,  0.415],\n",
              "       ...,\n",
              "       [-0.435, -0.405, -0.38 , ..., -0.58 , -0.475, -0.585],\n",
              "       [-0.2  , -0.215, -0.28 , ..., -0.55 , -0.52 , -0.47 ],\n",
              "       [-0.495, -0.45 , -0.34 , ..., -0.6  , -0.7  , -0.58 ]])"
            ]
          },
          "metadata": {},
          "execution_count": 18
        }
      ],
      "source": [
        "X_all"
      ]
    },
    {
      "cell_type": "code",
      "source": [
        "plt.plot(X_all[15])\n",
        "plt.show()"
      ],
      "metadata": {
        "colab": {
          "base_uri": "https://localhost:8080/",
          "height": 265
        },
        "id": "nek6mUKXBsY4",
        "outputId": "9d14c5c0-cc6a-4f7e-e4ac-60dd2555cabb"
      },
      "execution_count": 43,
      "outputs": [
        {
          "output_type": "display_data",
          "data": {
            "text/plain": [
              "<Figure size 432x288 with 1 Axes>"
            ],
            "image/png": "[encoded data removed]"
          },
          "metadata": {
            "needs_background": "light"
          }
        }
      ]
    },
    {
      "cell_type": "markdown",
      "metadata": {
        "id": "wJy6XQX93Ykw"
      },
      "source": [
        "Normalization Step:"
      ]
    },
    {
      "cell_type": "code",
      "execution_count": 19,
      "metadata": {
        "id": "3gMjSalMy9fQ"
      },
      "outputs": [],
      "source": [
        "X_all = X_all/np.max(X_all)\n",
        "## Normalization always done by dividing the array by the maximum value in it.\n",
        "## we can get this maximum value by numpy.max()"
      ]
    },
    {
      "cell_type": "code",
      "execution_count": 20,
      "metadata": {
        "colab": {
          "base_uri": "https://localhost:8080/"
        },
        "id": "8DjTKhMQ5lnn",
        "outputId": "1e362def-1faa-424c-f14c-0dfac26a1dbb"
      },
      "outputs": [
        {
          "output_type": "execute_result",
          "data": {
            "text/plain": [
              "array([[-0.05918058, -0.18209408, -0.29135053, ...,  0.06221548,\n",
              "         0.15477997,  0.02883156],\n",
              "       [-0.17754173, -0.12594841, -0.10622155, ..., -0.07435508,\n",
              "        -0.23975721, -0.19878604],\n",
              "       [ 0.0030349 , -0.14112291, -0.29590288, ...,  0.02731411,\n",
              "         0.20485584,  0.12594841],\n",
              "       ...,\n",
              "       [-0.13201821, -0.12291351, -0.11532625, ..., -0.17602428,\n",
              "        -0.14415781, -0.17754173],\n",
              "       [-0.06069803, -0.06525038, -0.08497724, ..., -0.16691958,\n",
              "        -0.15781487, -0.14264036],\n",
              "       [-0.15022762, -0.13657056, -0.10318665, ..., -0.18209408,\n",
              "        -0.2124431 , -0.17602428]])"
            ]
          },
          "metadata": {},
          "execution_count": 20
        }
      ],
      "source": [
        "X_all"
      ]
    },
    {
      "cell_type": "code",
      "source": [
        "X_all.shape"
      ],
      "metadata": {
        "colab": {
          "base_uri": "https://localhost:8080/"
        },
        "id": "9JTeW9q3NfRC",
        "outputId": "a27119a5-58e4-40c2-e678-5f6bde7e18bb"
      },
      "execution_count": 21,
      "outputs": [
        {
          "output_type": "execute_result",
          "data": {
            "text/plain": [
              "(581, 3000)"
            ]
          },
          "metadata": {},
          "execution_count": 21
        }
      ]
    },
    {
      "cell_type": "code",
      "source": [
        "type(X_all)"
      ],
      "metadata": {
        "colab": {
          "base_uri": "https://localhost:8080/"
        },
        "id": "nSMuTTlwSV8n",
        "outputId": "eb5c2d5e-c9c3-40fe-e658-4f13ad976e03"
      },
      "execution_count": 34,
      "outputs": [
        {
          "output_type": "execute_result",
          "data": {
            "text/plain": [
              "numpy.ndarray"
            ]
          },
          "metadata": {},
          "execution_count": 34
        }
      ]
    },
    {
      "cell_type": "code",
      "source": [
        "plt.plot(X_all[15])\n",
        "plt.show()"
      ],
      "metadata": {
        "colab": {
          "base_uri": "https://localhost:8080/",
          "height": 265
        },
        "id": "ZB9tRRgvP7uo",
        "outputId": "a284928a-f37a-482d-efe4-9bf4a642252d"
      },
      "execution_count": 44,
      "outputs": [
        {
          "output_type": "display_data",
          "data": {
            "text/plain": [
              "<Figure size 432x288 with 1 Axes>"
            ],
            "image/png": "[encoded data removed]"
          },
          "metadata": {
            "needs_background": "light"
          }
        }
      ]
    },
    {
      "cell_type": "markdown",
      "metadata": {
        "id": "-BH9q_GY3fLA"
      },
      "source": [
        "**Noise removal step:**\n",
        "\n",
        "we will remove noise from this database by using discrete wavelet transform.\n",
        "The outputs are A and D the reconstruction wavelet coefficients\n",
        "\n",
        "A: The approximation output which is the low frequency content of the input signal component.\n",
        "\n",
        "D: The multidimensional output which gives the details, or the high frequency components, of the input signal at various levels"
      ]
    },
    {
      "cell_type": "code",
      "execution_count": 22,
      "metadata": {
        "id": "3e5BBVHy5nde"
      },
      "outputs": [],
      "source": [
        "import pywt #PyWavelets is open source wavelet transform software for Python. It combines a simple high level interface with low level C and Cython performance.\n"
      ]
    },
    {
      "cell_type": "code",
      "execution_count": 23,
      "metadata": {
        "id": "tPFsPJEI6AUJ"
      },
      "outputs": [],
      "source": [
        "A, D = pywt.dwt(X_all, wavelet= 'db1', mode='symmetric') #Daubechies (db) wavelet \n"
      ]
    },
    {
      "cell_type": "code",
      "source": [
        "print(A)"
      ],
      "metadata": {
        "colab": {
          "base_uri": "https://localhost:8080/"
        },
        "id": "Afk9UdwRP-p2",
        "outputId": "a8c4c234-518c-4aa3-be0a-65f03366468a"
      },
      "execution_count": 45,
      "outputs": [
        {
          "output_type": "stream",
          "name": "stdout",
          "text": [
            "[[-0.17060695 -0.3154619  -0.14056296 ... -0.06867198  0.04184699\n",
            "   0.12983296]\n",
            " [-0.21459993 -0.11588396  0.02467899 ...  0.14485496  0.009657\n",
            "  -0.3100969 ]\n",
            " [-0.09764297 -0.34657889 -0.17167995 ... -0.09013197  0.02467899\n",
            "   0.23391393]\n",
            " ...\n",
            " [-0.18026394 -0.13305196 -0.15451195 ... -0.15343895 -0.20279694\n",
            "  -0.22747593]\n",
            " [-0.08905897 -0.11266497 -0.19528594 ... -0.24893592 -0.24786292\n",
            "  -0.21245393]\n",
            " [-0.20279694 -0.15129295 -0.17704495 ... -0.21781893 -0.25537392\n",
            "  -0.27468791]]\n"
          ]
        }
      ]
    },
    {
      "cell_type": "code",
      "source": [
        "plt.plot(A[5])\n",
        "plt.show()"
      ],
      "metadata": {
        "colab": {
          "base_uri": "https://localhost:8080/",
          "height": 265
        },
        "id": "mvcmlgdDQA9H",
        "outputId": "8063245d-1bb2-4af3-c0d8-83a8f5becd74"
      },
      "execution_count": 46,
      "outputs": [
        {
          "output_type": "display_data",
          "data": {
            "text/plain": [
              "<Figure size 432x288 with 1 Axes>"
            ],
            "image/png": "[encoded data removed]"
          },
          "metadata": {
            "needs_background": "light"
          }
        }
      ]
    },
    {
      "cell_type": "code",
      "source": [
        "print(D)"
      ],
      "metadata": {
        "colab": {
          "base_uri": "https://localhost:8080/"
        },
        "id": "Hqf3MH9nQEND",
        "outputId": "81f7b005-51e3-4635-a267-21f67e19b806"
      },
      "execution_count": 47,
      "outputs": [
        {
          "output_type": "stream",
          "name": "stdout",
          "text": [
            "[[ 0.08691297 -0.09656997 -0.02467899 ... -0.04721199 -0.04613899\n",
            "   0.08905897]\n",
            " [-0.03648199 -0.03433599 -0.09120497 ... -0.12554096  0.11481096\n",
            "  -0.02897099]\n",
            " [ 0.10193497 -0.07189098 -0.02145999 ... -0.04077399 -0.013949\n",
            "   0.05579598]\n",
            " ...\n",
            " [-0.006438   -0.03004399  0.008584   ...  0.009657    0.04613899\n",
            "   0.02360599]\n",
            " [ 0.003219   -0.007511    0.02789799 ...  0.01073    -0.011803\n",
            "  -0.01073   ]\n",
            " [-0.009657    0.005365   -0.005365   ...  0.02253299  0.002146\n",
            "  -0.02575199]]\n"
          ]
        }
      ]
    },
    {
      "cell_type": "code",
      "source": [
        "plt.plot(D[5])\n",
        "plt.show()"
      ],
      "metadata": {
        "colab": {
          "base_uri": "https://localhost:8080/",
          "height": 265
        },
        "id": "jUVF2iobQGVJ",
        "outputId": "2a88ef6e-17a9-4cf5-d8a9-39a333986b88"
      },
      "execution_count": 48,
      "outputs": [
        {
          "output_type": "display_data",
          "data": {
            "text/plain": [
              "<Figure size 432x288 with 1 Axes>"
            ],
            "image/png": "[encoded data removed]"
          },
          "metadata": {
            "needs_background": "light"
          }
        }
      ]
    },
    {
      "cell_type": "markdown",
      "metadata": {
        "id": "z1uXW_-W4M4V"
      },
      "source": [
        "**Data Augmentation step**:"
      ]
    },
    {
      "cell_type": "code",
      "source": [
        "from scipy.signal import resample"
      ],
      "metadata": {
        "id": "aNrBfL4BtNKK"
      },
      "execution_count": 24,
      "outputs": []
    },
    {
      "cell_type": "code",
      "execution_count": 25,
      "metadata": {
        "id": "Nu1PVeVf9M6-"
      },
      "outputs": [],
      "source": [
        "\n",
        "new=[]\n",
        "for i in range(len(X_all)):\n",
        "  isg= resample(X_all[i], len(X_all[i])) * -1\n",
        "  new.append(isg)\n"
      ]
    },
    {
      "cell_type": "code",
      "execution_count": 26,
      "metadata": {
        "colab": {
          "base_uri": "https://localhost:8080/"
        },
        "id": "ZxL3YFMXK8tW",
        "outputId": "1aa9203b-0eaa-414a-d240-3a59b4dac9cf"
      },
      "outputs": [
        {
          "output_type": "execute_result",
          "data": {
            "text/plain": [
              "[array([ 0.05918058,  0.18209408,  0.29135053, ..., -0.06221548,\n",
              "        -0.15477997, -0.02883156]),\n",
              " array([0.17754173, 0.12594841, 0.10622155, ..., 0.07435508, 0.23975721,\n",
              "        0.19878604]),\n",
              " array([-0.0030349 ,  0.14112291,  0.29590288, ..., -0.02731411,\n",
              "        -0.20485584, -0.12594841]),\n",
              " array([0.13201821, 0.12898331, 0.02731411, ..., 0.13960546, 0.25189681,\n",
              "        0.1107739 ]),\n",
              " array([0.1047041 , 0.11532625, 0.01669196, ..., 0.14415781, 0.27314112,\n",
              "        0.14264036]),\n",
              " array([ 0.08649469,  0.24430956,  0.28831563, ..., -0.12746586,\n",
              "        -0.1198786 , -0.0060698 ]),\n",
              " array([0.28072838, 0.13201821, 0.12898331, ..., 0.00455235, 0.13505311,\n",
              "        0.24886191]),\n",
              " array([-0.05918058, -0.30500759, -0.19271624, ...,  0.0030349 ,\n",
              "        -0.11532625, -0.14112291]),\n",
              " array([-0.11532625,  0.05462822,  0.28224583, ..., -0.17602428,\n",
              "        -0.33990895, -0.37481032]),\n",
              " array([ 0.12898331,  0.02579666,  0.01820941, ...,  0.18209408,\n",
              "         0.03945372, -0.04400607]),\n",
              " array([ 0.0091047 , -0.14567527, -0.15933232, ..., -0.01517451,\n",
              "        -0.08042489, -0.13808801]),\n",
              " array([ 0.0091047 , -0.06980273, -0.07738998, ...,  0.19423369,\n",
              "         0.02579666, -0.02883156]),\n",
              " array([-0.26707132, -0.26707132, -0.09408194, ..., -0.07435508,\n",
              "        -0.13201821, -0.17147193]),\n",
              " array([ 0.03793627, -0.00151745, -0.06221548, ..., -0.06980273,\n",
              "        -0.07435508, -0.09863429]),\n",
              " array([ 0.20030349,  0.02276176, -0.01669196, ..., -0.27465857,\n",
              "        -0.20637329, -0.03793627]),\n",
              " array([-0.01213961, -0.06676783, -0.09408194, ..., -0.21396055,\n",
              "        -0.04855842,  0.11229135]),\n",
              " array([-0.35508346, -0.18361153,  0.01820941, ..., -0.0060698 ,\n",
              "        -0.05462822, -0.07587253]),\n",
              " array([-0.17450683, -0.26555387, -0.13353566, ...,  0.04704097,\n",
              "         0.01820941, -0.04704097]),\n",
              " array([-0.08345979, -0.24582701, -0.1138088 , ..., -0.04552352,\n",
              "        -0.06828528, -0.1198786 ]),\n",
              " array([-0.05311077, -0.07587253, -0.06676783, ...,  0.02731411,\n",
              "         0.04855842,  0.01062215]),\n",
              " array([-0.14415781, -0.09104704, -0.04855842, ...,  0.03945372,\n",
              "         0.07132018,  0.02579666]),\n",
              " array([-0.03945372, -0.05007587, -0.05614568, ..., -0.18057663,\n",
              "        -0.20182094, -0.24127466]),\n",
              " array([-0.04704097, -0.06373293, -0.04097117, ...,  0.00151745,\n",
              "         0.01972686,  0.00151745]),\n",
              " array([ 0.00151745, -0.02124431, -0.02276176, ...,  0.06525038,\n",
              "         0.03186646,  0.05766313]),\n",
              " array([-0.0030349 ,  0.01062215,  0.01213961, ...,  0.02276176,\n",
              "         0.03186646,  0.05311077]),\n",
              " array([-0.06069803, -0.08042489, -0.08497724, ...,  0.01820941,\n",
              "         0.00151745,  0.02124431]),\n",
              " array([-0.05766313, -0.07890744, -0.06980273, ...,  0.01517451,\n",
              "         0.0091047 , -0.00455235]),\n",
              " array([-0.05462822, -0.01062215, -0.01669196, ..., -0.05159332,\n",
              "         0.0030349 ,  0.01062215]),\n",
              " array([-0.02883156, -0.05766313, -0.01972686, ...,  0.0060698 ,\n",
              "         0.0060698 ,  0.00151745]),\n",
              " array([-0.05311077, -0.05766313, -0.04552352, ..., -0.02579666,\n",
              "        -0.01517451, -0.04248862]),\n",
              " array([-0.01213961, -0.03186646, -0.04400607, ..., -0.02731411,\n",
              "        -0.02276176, -0.02124431]),\n",
              " array([-0.02579666, -0.01062215, -0.0030349 , ..., -0.1016692 ,\n",
              "        -0.05766313, -0.05007587]),\n",
              " array([-0.05007587, -0.05462822, -0.04097117, ...,  0.00758725,\n",
              "         0.0091047 ,  0.01213961]),\n",
              " array([-0.02883156, -0.03186646, -0.03186646, ..., -0.0060698 ,\n",
              "        -0.        ,  0.01365706]),\n",
              " array([-0.03945372, -0.03793627, -0.03490137, ..., -0.0091047 ,\n",
              "        -0.01213961, -0.01213961]),\n",
              " array([-0.05462822, -0.04097117, -0.04855842, ...,  0.0030349 ,\n",
              "         0.00758725,  0.01062215]),\n",
              " array([-0.07132018, -0.08042489, -0.07132018, ...,  0.01365706,\n",
              "         0.02579666,  0.01972686]),\n",
              " array([ 0.04248862,  0.01365706,  0.02579666, ..., -0.12898331,\n",
              "        -0.17450683, -0.16691958]),\n",
              " array([-1.51745068e-03, -2.36847579e-17,  1.66919575e-02, ...,\n",
              "        -1.86646434e-01, -1.72989378e-01, -1.53262519e-01]),\n",
              " array([ 0.03641882,  0.03338392,  0.01213961, ..., -0.1168437 ,\n",
              "        -0.07132018, -0.01365706]),\n",
              " array([ 0.01820941,  0.01669196,  0.05159332, ..., -0.17754173,\n",
              "        -0.12746586, -0.10015175]),\n",
              " array([ 0.02731411,  0.01062215,  0.01365706, ..., -0.2124431 ,\n",
              "        -0.24279211, -0.23672231]),\n",
              " array([-0.20637329, -0.17905918, -0.19423369, ..., -0.01213961,\n",
              "        -0.03338392, -0.05159332]),\n",
              " array([0.08497724, 0.09559939, 0.10015175, ..., 0.05007587, 0.04704097,\n",
              "        0.05918058]),\n",
              " array([0.03490137, 0.02579666, 0.03641882, ..., 0.03338392, 0.05159332,\n",
              "        0.04704097]),\n",
              " array([ 0.02731411,  0.02883156,  0.02276176, ..., -0.00151745,\n",
              "        -0.01213961, -0.00758725]),\n",
              " array([-0.03641882, -0.03945372, -0.04552352, ..., -0.03490137,\n",
              "        -0.01820941,  0.0030349 ]),\n",
              " array([-0.00455235,  0.0030349 , -0.00758725, ...,  0.05311077,\n",
              "         0.06525038,  0.05007587]),\n",
              " array([-0.00758725, -0.01213961, -0.01820941, ...,  0.03793627,\n",
              "         0.01820941,  0.01062215]),\n",
              " array([ 0.02579666,  0.01213961,  0.01972686, ..., -0.03338392,\n",
              "        -0.04097117, -0.03945372]),\n",
              " array([ 1.51745068e-03, -4.73695157e-18,  6.06980273e-03, ...,\n",
              "        -3.79362671e-02, -4.70409712e-02, -6.67678300e-02]),\n",
              " array([ 1.06221548e-02,  9.47390314e-18,  1.36570561e-02, ...,\n",
              "        -7.89074355e-02, -7.28376328e-02, -7.89074355e-02]),\n",
              " array([-1.18423789e-17, -1.06221548e-02,  1.66919575e-02, ...,\n",
              "        -5.00758725e-02, -7.73899848e-02, -4.85584219e-02]),\n",
              " array([0.02427921, 0.01517451, 0.00151745, ..., 0.01972686, 0.02276176,\n",
              "        0.02427921]),\n",
              " array([0.01365706, 0.01517451, 0.03945372, ..., 0.01365706, 0.02883156,\n",
              "        0.02427921]),\n",
              " array([ 0.03186646,  0.03490137,  0.03490137, ..., -0.08497724,\n",
              "        -0.11229135, -0.13353566]),\n",
              " array([0.02883156, 0.02276176, 0.02883156, ..., 0.02883156, 0.03034901,\n",
              "        0.01820941]),\n",
              " array([-0.44157815, -0.52352049, -0.46737481, ...,  0.13353566,\n",
              "         0.13808801,  0.13201821]),\n",
              " array([-0.43854325, -0.37936267, -0.45827011, ...,  0.10318665,\n",
              "         0.09711684,  0.08497724]),\n",
              " array([-0.27769347, -0.37632777, -0.46585736, ...,  0.07738998,\n",
              "         0.07132018,  0.05462822]),\n",
              " array([-0.05614568,  0.05918058,  0.05462822, ...,  0.07435508,\n",
              "         0.07587253,  0.07587253]),\n",
              " array([0.44764795, 0.42943854, 0.43095599, ..., 0.08952959, 0.08497724,\n",
              "        0.07738998]),\n",
              " array([0.31259484, 0.30804249, 0.31714719, ..., 0.04855842, 0.03490137,\n",
              "        0.03945372]),\n",
              " array([0.32776935, 0.32018209, 0.29742033, ..., 0.02579666, 0.04248862,\n",
              "        0.02579666]),\n",
              " array([0.28679818, 0.29286798, 0.27314112, ..., 0.1047041 , 0.08194234,\n",
              "        0.06221548]),\n",
              " array([0.03641882, 0.02731411, 0.03793627, ..., 0.02276176, 0.02731411,\n",
              "        0.02276176]),\n",
              " array([0.05159332, 0.05311077, 0.04248862, ..., 0.03338392, 0.04704097,\n",
              "        0.02276176]),\n",
              " array([0.01365706, 0.02124431, 0.03793627, ..., 0.0030349 , 0.01820941,\n",
              "        0.02883156]),\n",
              " array([ 0.01820941,  0.02731411,  0.01669196, ..., -0.13050076,\n",
              "        -0.1168437 , -0.107739  ]),\n",
              " array([-0.11229135, -0.09711684, -0.1047041 , ...,  0.03490137,\n",
              "         0.01820941,  0.03186646]),\n",
              " array([-0.09559939, -0.1107739 , -0.11532625, ...,  0.02124431,\n",
              "         0.0091047 ,  0.0060698 ]),\n",
              " array([-0.01669196, -0.01517451, -0.01820941, ...,  0.01365706,\n",
              "         0.01213961,  0.01365706]),\n",
              " array([-0.02731411, -0.02427921, -0.02427921, ..., -0.02883156,\n",
              "        -0.01820941, -0.01365706]),\n",
              " array([-0.08801214, -0.08952959, -0.09104704, ..., -0.05918058,\n",
              "        -0.05766313, -0.05614568]),\n",
              " array([-0.14567527, -0.14567527, -0.14719272, ..., -0.03641882,\n",
              "        -0.03186646, -0.03338392]),\n",
              " array([-0.08345979, -0.08194234, -0.08497724, ..., -0.00758725,\n",
              "        -0.0091047 , -0.01213961]),\n",
              " array([ 9.47390314e-18, -3.03490137e-03, -3.03490137e-03, ...,\n",
              "        -2.12443096e-02, -1.97268589e-02, -1.97268589e-02]),\n",
              " array([ 0.00758725,  0.01062215,  0.0030349 , ..., -0.01213961,\n",
              "        -0.01365706, -0.01062215]),\n",
              " array([-0.04552352, -0.04552352, -0.04097117, ...,  0.01820941,\n",
              "         0.02276176,  0.02883156]),\n",
              " array([-0.05159332, -0.04248862, -0.05007587, ...,  0.02276176,\n",
              "         0.02124431,  0.01972686]),\n",
              " array([-0.04400607, -0.04097117, -0.04400607, ...,  0.03186646,\n",
              "         0.02731411,  0.02731411]),\n",
              " array([-0.03186646, -0.03490137, -0.04704097, ...,  0.04400607,\n",
              "         0.03945372,  0.03490137]),\n",
              " array([-0.02579666, -0.02731411, -0.02579666, ...,  0.03641882,\n",
              "         0.03641882,  0.03641882]),\n",
              " array([-0.03034901, -0.02731411, -0.03186646, ...,  0.03641882,\n",
              "         0.03793627,  0.03793627]),\n",
              " array([0.04097117, 0.04400607, 0.04400607, ..., 0.05766313, 0.05614568,\n",
              "        0.05918058]),\n",
              " array([ 0.05462822,  0.03793627,  0.04552352, ..., -0.02276176,\n",
              "        -0.0091047 , -0.0091047 ]),\n",
              " array([ 0.05159332,  0.04552352,  0.05311077, ..., -0.04248862,\n",
              "        -0.03338392, -0.03338392]),\n",
              " array([ 0.07132018,  0.07890744,  0.09256449, ..., -0.05462822,\n",
              "        -0.04855842, -0.05007587]),\n",
              " array([0.06525038, 0.07283763, 0.06676783, ..., 0.02427921, 0.03641882,\n",
              "        0.02883156]),\n",
              " array([0.05614568, 0.05766313, 0.06069803, ..., 0.02427921, 0.04704097,\n",
              "        0.04400607]),\n",
              " array([0.07738998, 0.06069803, 0.07435508, ..., 0.04400607, 0.01669196,\n",
              "        0.01365706]),\n",
              " array([0.05311077, 0.05007587, 0.06373293, ..., 0.02124431, 0.01517451,\n",
              "        0.01213961]),\n",
              " array([0.03338392, 0.05614568, 0.05007587, ..., 0.08497724, 0.08194234,\n",
              "        0.06069803]),\n",
              " array([-0.01213961, -0.02124431, -0.00758725, ...,  0.03793627,\n",
              "         0.04552352,  0.03338392]),\n",
              " array([0.03945372, 0.05159332, 0.05462822, ..., 0.02883156, 0.03945372,\n",
              "        0.03793627]),\n",
              " array([0.05007587, 0.05766313, 0.05918058, ..., 0.02427921, 0.0060698 ,\n",
              "        0.03186646]),\n",
              " array([ 0.06221548,  0.05918058,  0.06525038, ..., -0.03034901,\n",
              "        -0.03793627, -0.01820941]),\n",
              " array([ 0.05766313,  0.05918058,  0.06373293, ..., -0.03641882,\n",
              "        -0.03641882, -0.03945372]),\n",
              " array([ 0.05614568,  0.03793627,  0.02883156, ..., -0.02124431,\n",
              "        -0.04400607, -0.03641882]),\n",
              " array([ 7.58725341e-03,  1.42108547e-17, -3.07901852e-17, ...,\n",
              "         1.36570561e-02,  9.10470410e-03,  9.10470410e-03]),\n",
              " array([0.01365706, 0.00151745, 0.00151745, ..., 0.02124431, 0.01365706,\n",
              "        0.0060698 ]),\n",
              " array([0.02579666, 0.02124431, 0.01517451, ..., 0.01213961, 0.01062215,\n",
              "        0.01669196]),\n",
              " array([0.03034901, 0.02427921, 0.02427921, ..., 0.01972686, 0.01517451,\n",
              "        0.01213961]),\n",
              " array([0.0060698 , 0.0060698 , 0.0030349 , ..., 0.01669196, 0.01365706,\n",
              "        0.01062215]),\n",
              " array([-0.00455235, -0.0091047 , -0.00758725, ...,  0.01365706,\n",
              "         0.00758725,  0.0030349 ]),\n",
              " array([-4.09711684e-02, -2.88315630e-02, -2.88315630e-02, ...,\n",
              "        -1.51745068e-03, -1.65793305e-17, -1.06221548e-02]),\n",
              " array([-0.03490137, -0.03490137, -0.03034901, ..., -0.02579666,\n",
              "        -0.02276176, -0.02427921]),\n",
              " array([ 0.00151745, -0.00455235, -0.01213961, ..., -0.05918058,\n",
              "        -0.05159332, -0.07132018]),\n",
              " array([0.02427921, 0.01972686, 0.01213961, ..., 0.01365706, 0.02579666,\n",
              "        0.01820941]),\n",
              " array([ 0.01820941,  0.03641882,  0.01365706, ..., -0.02731411,\n",
              "        -0.01820941, -0.0030349 ]),\n",
              " array([-0.13657056, -0.14264036, -0.14567527, ..., -0.2185129 ,\n",
              "        -0.20789074, -0.21396055]),\n",
              " array([-0.17147193, -0.16995448, -0.17905918, ..., -0.2185129 ,\n",
              "        -0.2215478 , -0.2306525 ]),\n",
              " array([-0.18512898, -0.19726859, -0.19119879, ..., -0.19575114,\n",
              "        -0.19878604, -0.20485584]),\n",
              " array([-0.18512898, -0.18816388, -0.19119879, ..., -0.16236722,\n",
              "        -0.16388467, -0.15781487]),\n",
              " array([-0.17602428, -0.17450683, -0.17298938, ..., -0.16995448,\n",
              "        -0.16995448, -0.16540212]),\n",
              " array([-0.17147193, -0.17905918, -0.16995448, ..., -0.17147193,\n",
              "        -0.17147193, -0.17298938]),\n",
              " array([0.01365706, 0.02731411, 0.02427921, ..., 0.05007587, 0.04704097,\n",
              "        0.05311077]),\n",
              " array([0.05159332, 0.07738998, 0.03793627, ..., 0.06828528, 0.04097117,\n",
              "        0.05462822]),\n",
              " array([0.05159332, 0.02124431, 0.00758725, ..., 0.05918058, 0.05614568,\n",
              "        0.06525038]),\n",
              " array([0.01972686, 0.02427921, 0.02427921, ..., 0.10925645, 0.12291351,\n",
              "        0.10015175]),\n",
              " array([0.05614568, 0.03793627, 0.05462822, ..., 0.01213961, 0.02124431,\n",
              "        0.06525038]),\n",
              " array([0.06221548, 0.06069803, 0.05766313, ..., 0.08042489, 0.06525038,\n",
              "        0.06525038]),\n",
              " array([0.06525038, 0.04552352, 0.06373293, ..., 0.05007587, 0.04400607,\n",
              "        0.04704097]),\n",
              " array([ 0.01820941,  0.01820941,  0.01517451, ..., -0.03034901,\n",
              "        -0.02124431, -0.0030349 ]),\n",
              " array([-0.13505311, -0.17147193, -0.19575114, ..., -0.00151745,\n",
              "        -0.02579666, -0.01062215]),\n",
              " array([ 0.02124431,  0.04552352,  0.04704097, ..., -0.0091047 ,\n",
              "        -0.01062215, -0.02124431]),\n",
              " array([0.05007587, 0.04855842, 0.03186646, ..., 0.00151745, 0.01820941,\n",
              "        0.03490137]),\n",
              " array([-0.00151745, -0.01365706, -0.03034901, ...,  0.05007587,\n",
              "         0.03186646,  0.02883156]),\n",
              " array([0.04552352, 0.01820941, 0.0060698 , ..., 0.03186646, 0.03945372,\n",
              "        0.03945372]),\n",
              " array([0.10318665, 0.1047041 , 0.08345979, ..., 0.00151745, 0.00758725,\n",
              "        0.01517451]),\n",
              " array([ 0.08194234,  0.08042489,  0.11532625, ..., -0.03338392,\n",
              "        -0.02883156, -0.04248862]),\n",
              " array([ 0.09408194,  0.09408194,  0.08952959, ..., -0.04097117,\n",
              "        -0.01820941, -0.04400607]),\n",
              " array([9.25644917e-02, 9.71168437e-02, 9.55993930e-02, ...,\n",
              "        2.27617602e-02, 9.10470410e-03, 9.47390314e-18]),\n",
              " array([ 0.09863429,  0.1016692 ,  0.09408194, ..., -0.04704097,\n",
              "        -0.02276176, -0.02731411]),\n",
              " array([ 0.10015175,  0.09408194,  0.10015175, ..., -0.02883156,\n",
              "        -0.03338392, -0.03641882]),\n",
              " array([ 0.1107739 ,  0.09559939,  0.09104704, ..., -0.08042489,\n",
              "        -0.06828528, -0.06676783]),\n",
              " array([-0.03338392, -0.01365706,  0.01820941, ..., -0.12291351,\n",
              "        -0.10015175, -0.09863429]),\n",
              " array([-0.02579666, -0.02276176, -0.0060698 , ..., -0.06676783,\n",
              "        -0.06069803, -0.04400607]),\n",
              " array([-0.05007587, -0.02731411, -0.01820941, ..., -0.08497724,\n",
              "        -0.06525038, -0.04704097]),\n",
              " array([ 0.0030349 ,  0.01062215, -0.01213961, ..., -0.21699545,\n",
              "        -0.27314112, -0.35204856]),\n",
              " array([ 0.03338392,  0.08194234,  0.02731411, ..., -0.06221548,\n",
              "        -0.06525038, -0.08497724]),\n",
              " array([ 0.00455235,  0.01517451,  0.01517451, ..., -0.06828528,\n",
              "        -0.06828528, -0.04855842]),\n",
              " array([ 0.01365706, -0.00455235,  0.01213961, ..., -0.05311077,\n",
              "        -0.06069803, -0.02883156]),\n",
              " array([ 0.0030349 ,  0.01972686,  0.02124431, ..., -0.06525038,\n",
              "        -0.06525038, -0.06373293]),\n",
              " array([ 7.58725341e-03,  3.03490137e-03,  1.89478063e-17, ...,\n",
              "        -5.15933232e-02, -4.55235205e-02, -5.15933232e-02]),\n",
              " array([ 0.01062215,  0.02124431,  0.05007587, ..., -0.03793627,\n",
              "        -0.03186646, -0.03641882]),\n",
              " array([-0.10622155, -0.11532625, -0.09559939, ..., -0.02731411,\n",
              "        -0.03186646, -0.03490137]),\n",
              " array([ 0.03338392,  0.06221548,  0.07132018, ..., -0.10622155,\n",
              "        -0.08801214, -0.07890744]),\n",
              " array([ 0.09104704,  0.09408194,  0.06980273, ..., -0.05007587,\n",
              "        -0.03945372, -0.04552352]),\n",
              " array([0.32473445, 0.33383915, 0.323217  , ..., 0.00455235, 0.01213961,\n",
              "        0.02276176]),\n",
              " array([0.02731411, 0.03034901, 0.02731411, ..., 0.06221548, 0.06828528,\n",
              "        0.05766313]),\n",
              " array([0.0060698 , 0.01062215, 0.00151745, ..., 0.03490137, 0.03641882,\n",
              "        0.03034901]),\n",
              " array([-0.00455235, -0.01972686, -0.01213961, ...,  0.02124431,\n",
              "         0.01213961,  0.01669196]),\n",
              " array([-0.02276176, -0.01365706, -0.01365706, ...,  0.00151745,\n",
              "         0.00151745,  0.0060698 ]),\n",
              " array([ 0.02579666,  0.02731411,  0.01820941, ..., -0.0091047 ,\n",
              "        -0.01213961, -0.0091047 ]),\n",
              " array([ 0.02427921,  0.02124431,  0.03641882, ..., -0.02731411,\n",
              "        -0.02579666, -0.02579666]),\n",
              " array([ 0.08649469,  0.07890744,  0.08497724, ..., -0.0091047 ,\n",
              "        -0.01365706, -0.01669196]),\n",
              " array([-0.02124431, -0.01062215, -0.0091047 , ...,  0.01820941,\n",
              "         0.01517451,  0.0030349 ]),\n",
              " array([-0.03338392, -0.03641882, -0.03338392, ...,  0.00151745,\n",
              "        -0.01213961, -0.0060698 ]),\n",
              " array([-0.05462822, -0.05007587, -0.05766313, ..., -0.01365706,\n",
              "        -0.01213961, -0.01517451]),\n",
              " array([-0.03490137, -0.03945372, -0.03793627, ...,  0.0060698 ,\n",
              "         0.01365706,  0.0091047 ]),\n",
              " array([-0.03034901, -0.02579666, -0.03186646, ...,  0.01820941,\n",
              "         0.01062215,  0.01062215]),\n",
              " array([0.03338392, 0.03186646, 0.02124431, ..., 0.15022762, 0.14871017,\n",
              "        0.14264036]),\n",
              " array([0.06676783, 0.06069803, 0.04855842, ..., 0.15781487, 0.15629742,\n",
              "        0.14264036]),\n",
              " array([-0.1107739 , -0.09711684, -0.09104704, ...,  0.1168437 ,\n",
              "         0.1168437 ,  0.12594841]),\n",
              " array([0.02276176, 0.03034901, 0.03186646, ..., 0.1016692 , 0.10622155,\n",
              "        0.107739  ]),\n",
              " array([0.01669196, 0.01972686, 0.01669196, ..., 0.07890744, 0.08194234,\n",
              "        0.07890744]),\n",
              " array([0.02427921, 0.03186646, 0.02427921, ..., 0.03186646, 0.03641882,\n",
              "        0.04704097]),\n",
              " array([ 0.05462822,  0.05007587,  0.03945372, ..., -0.01972686,\n",
              "        -0.02276176, -0.01517451]),\n",
              " array([-0.13505311, -0.1138088 , -0.15933232, ..., -0.02276176,\n",
              "        -0.00758725, -0.01820941]),\n",
              " array([-4.55235205e-03, -2.36847579e-18, -3.03490137e-03, ...,\n",
              "         9.10470410e-03,  6.06980273e-03,  1.36570561e-02]),\n",
              " array([ 0.03490137,  0.02731411,  0.01517451, ..., -0.06676783,\n",
              "        -0.06676783, -0.04704097]),\n",
              " array([-0.0060698 ,  0.02276176,  0.02427921, ...,  0.03490137,\n",
              "         0.03186646,  0.02427921]),\n",
              " array([0.03793627, 0.02883156, 0.01517451, ..., 0.06676783, 0.08345979,\n",
              "        0.08042489]),\n",
              " array([0.02579666, 0.01517451, 0.02124431, ..., 0.03641882, 0.03793627,\n",
              "        0.03186646]),\n",
              " array([0.01213961, 0.02124431, 0.0030349 , ..., 0.05007587, 0.05462822,\n",
              "        0.05918058]),\n",
              " array([-0.02731411, -0.03641882, -0.03641882, ..., -0.14871017,\n",
              "        -0.14264036, -0.15326252]),\n",
              " array([-0.00151745, -0.00455235, -0.0091047 , ..., -0.15477997,\n",
              "        -0.15629742, -0.16084977]),\n",
              " array([ 0.00455235,  0.00151745, -0.0060698 , ..., -0.14719272,\n",
              "        -0.15477997, -0.14871017]),\n",
              " array([ 0.05462822,  0.05614568,  0.05007587, ..., -0.15781487,\n",
              "        -0.15326252, -0.15933232]),\n",
              " array([ 0.01062215, -0.02579666, -0.04552352, ..., -0.05462822,\n",
              "        -0.05159332, -0.05311077]),\n",
              " array([0.05159332, 0.04704097, 0.04552352, ..., 0.00455235, 0.01062215,\n",
              "        0.01213961]),\n",
              " array([ 0.05766313,  0.05766313,  0.05311077, ..., -0.01213961,\n",
              "        -0.02276176, -0.02427921]),\n",
              " array([ 0.02731411,  0.02579666,  0.02731411, ..., -0.07738998,\n",
              "        -0.07587253, -0.07738998]),\n",
              " array([ 0.02124431,  0.0030349 ,  0.01062215, ..., -0.01820941,\n",
              "        -0.02579666, -0.02731411]),\n",
              " array([ 0.0091047 ,  0.01062215,  0.01669196, ..., -0.03793627,\n",
              "        -0.04097117, -0.05007587]),\n",
              " array([ 0.01365706, -0.0030349 , -0.00758725, ..., -0.0030349 ,\n",
              "        -0.0091047 , -0.02883156]),\n",
              " array([ 0.01213961, -0.00151745, -0.00151745, ..., -0.01213961,\n",
              "        -0.01213961, -0.02276176]),\n",
              " array([ 0.03338392,  0.02731411,  0.03034901, ..., -0.05766313,\n",
              "        -0.05311077, -0.05007587]),\n",
              " array([0.02883156, 0.03793627, 0.03338392, ..., 0.01669196, 0.02124431,\n",
              "        0.01062215]),\n",
              " array([-0.05766313, -0.05462822, -0.04704097, ..., -0.5477997 ,\n",
              "        -0.53566009, -0.52503794]),\n",
              " array([ 0.01213961, -0.0091047 , -0.0091047 , ..., -0.50075873,\n",
              "        -0.51593323, -0.51593323]),\n",
              " array([ 0.05311077,  0.05311077,  0.05614568, ..., -0.49317147,\n",
              "        -0.49620637, -0.49468892]),\n",
              " array([ 0.107739  ,  0.12443096,  0.09408194, ..., -0.51593323,\n",
              "        -0.52655539, -0.52352049]),\n",
              " array([ 0.16084977,  0.17450683,  0.15477997, ..., -0.50834598,\n",
              "        -0.52959029, -0.51896813]),\n",
              " array([ 0.05918058,  0.06069803,  0.06221548, ..., -0.107739  ,\n",
              "        -0.107739  , -0.1016692 ]),\n",
              " array([ 0.07738998,  0.07132018,  0.06980273, ..., -0.06828528,\n",
              "        -0.06221548, -0.08649469]),\n",
              " array([ 0.00758725,  0.00455235,  0.00455235, ..., -0.06828528,\n",
              "        -0.06069803, -0.06676783]),\n",
              " array([-0.01365706, -0.01213961, -0.01365706, ..., -0.01213961,\n",
              "        -0.01365706, -0.01517451]),\n",
              " array([-0.04855842, -0.05007587, -0.05159332, ..., -0.03034901,\n",
              "        -0.02731411, -0.01517451]),\n",
              " array([-0.03338392, -0.01669196, -0.01213961, ..., -0.03338392,\n",
              "        -0.02731411, -0.02124431]),\n",
              " array([-0.12139605, -0.12594841, -0.14871017, ..., -0.20789074,\n",
              "        -0.21092564, -0.20637329]),\n",
              " array([-0.14112291, -0.16540212, -0.18512898, ..., -0.1016692 ,\n",
              "        -0.12443096, -0.13201821]),\n",
              " array([-0.05159332, -0.05462822, -0.07738998, ..., -0.10622155,\n",
              "        -0.11532625, -0.1047041 ]),\n",
              " array([-0.16995448, -0.18209408, -0.20485584, ..., -0.11532625,\n",
              "        -0.12291351, -0.1198786 ]),\n",
              " array([-0.03490137, -0.03186646, -0.03641882, ..., -0.13505311,\n",
              "        -0.13050076, -0.1198786 ]),\n",
              " array([-0.1047041 , -0.10925645, -0.10622155, ..., -0.1016692 ,\n",
              "        -0.10015175, -0.1047041 ]),\n",
              " array([-0.10318665, -0.1047041 , -0.09863429, ..., -0.11532625,\n",
              "        -0.13353566, -0.1198786 ]),\n",
              " array([0.01820941, 0.02731411, 0.04552352, ..., 0.06069803, 0.08649469,\n",
              "        0.11532625]),\n",
              " array([0.04552352, 0.07283763, 0.06373293, ..., 0.03793627, 0.04400607,\n",
              "        0.03793627]),\n",
              " array([0.03338392, 0.03490137, 0.03945372, ..., 0.03490137, 0.03793627,\n",
              "        0.03793627]),\n",
              " array([0.04248862, 0.04248862, 0.04552352, ..., 0.03034901, 0.04400607,\n",
              "        0.02883156]),\n",
              " array([ 0.0091047 ,  0.01062215,  0.01669196, ..., -0.00151745,\n",
              "         0.01669196,  0.02124431]),\n",
              " array([0.03338392, 0.02579666, 0.01669196, ..., 0.00758725, 0.0060698 ,\n",
              "        0.01365706]),\n",
              " array([ 0.0030349 ,  0.00151745, -0.0030349 , ...,  0.02731411,\n",
              "         0.03034901,  0.02276176]),\n",
              " array([ 7.69754630e-18,  4.55235205e-03, -4.55235205e-03, ...,\n",
              "        -6.06980273e-03, -3.03490137e-03, -1.06221548e-02]),\n",
              " array([-0.08649469, -0.08194234, -0.06373293, ...,  0.00151745,\n",
              "        -0.02124431, -0.03945372]),\n",
              " array([0.02276176, 0.01517451, 0.01213961, ..., 0.09711684, 0.10318665,\n",
              "        0.09711684]),\n",
              " array([0.03338392, 0.03490137, 0.03490137, ..., 0.1047041 , 0.1047041 ,\n",
              "        0.10622155]),\n",
              " array([0.04400607, 0.06069803, 0.03945372, ..., 0.17754173, 0.17905918,\n",
              "        0.16540212]),\n",
              " array([-0.07587253, -0.01517451,  0.04400607, ...,  0.14264036,\n",
              "         0.15781487,  0.15781487]),\n",
              " array([0.08497724, 0.11532625, 0.12746586, ..., 0.06221548, 0.07283763,\n",
              "        0.07132018]),\n",
              " array([0.1047041 , 0.09711684, 0.08801214, ..., 0.07283763, 0.07738998,\n",
              "        0.07738998]),\n",
              " array([0.10925645, 0.12291351, 0.11836115, ..., 0.07132018, 0.07132018,\n",
              "        0.07738998]),\n",
              " array([0.12898331, 0.107739  , 0.1016692 , ..., 0.09104704, 0.08801214,\n",
              "        0.08042489]),\n",
              " array([0.07283763, 0.07890744, 0.08194234, ..., 0.08345979, 0.07132018,\n",
              "        0.07738998]),\n",
              " array([0.05462822, 0.08194234, 0.07738998, ..., 0.08801214, 0.08649469,\n",
              "        0.1016692 ]),\n",
              " array([0.19878604, 0.19878604, 0.19726859, ..., 0.01820941, 0.01820941,\n",
              "        0.03186646]),\n",
              " array([0.16843703, 0.15781487, 0.16084977, ..., 0.05766313, 0.05159332,\n",
              "        0.02883156]),\n",
              " array([0.14264036, 0.13657056, 0.13505311, ..., 0.03641882, 0.03793627,\n",
              "        0.04097117]),\n",
              " array([0.10318665, 0.10318665, 0.08345979, ..., 0.06828528, 0.06525038,\n",
              "        0.06069803]),\n",
              " array([0.08042489, 0.06980273, 0.07587253, ..., 0.07435508, 0.05766313,\n",
              "        0.06525038]),\n",
              " array([0.08042489, 0.06828528, 0.06373293, ..., 0.18512898, 0.18816388,\n",
              "        0.18664643]),\n",
              " array([0.06525038, 0.06980273, 0.06221548, ..., 0.46737481, 0.45675266,\n",
              "        0.46433991]),\n",
              " array([-0.01365706, -0.00758725, -0.01213961, ...,  0.02276176,\n",
              "         0.02731411,  0.02883156]),\n",
              " array([ 0.01062215, -0.00151745, -0.00151745, ...,  0.03793627,\n",
              "         0.04097117,  0.03793627]),\n",
              " array([0.02124431, 0.01669196, 0.01820941, ..., 0.02883156, 0.02124431,\n",
              "        0.03793627]),\n",
              " array([-0.03338392, -0.04400607, -0.02731411, ...,  0.00455235,\n",
              "         0.01213961,  0.0091047 ]),\n",
              " array([ 0.01517451,  0.01213961,  0.02124431, ..., -0.0060698 ,\n",
              "        -0.00455235, -0.0060698 ]),\n",
              " array([ 0.02731411,  0.01517451,  0.02427921, ..., -0.0060698 ,\n",
              "         0.01062215,  0.00758725]),\n",
              " array([0.02427921, 0.02731411, 0.02427921, ..., 0.02276176, 0.02579666,\n",
              "        0.03338392]),\n",
              " array([ 0.30349014,  0.30955994,  0.30349014, ..., -0.03793627,\n",
              "        -0.05918058, -0.03186646]),\n",
              " array([0.28983308, 0.29286798, 0.29590288, ..., 0.03641882, 0.04248862,\n",
              "        0.04400607]),\n",
              " array([0.25644917, 0.24734446, 0.2276176 , ..., 0.06373293, 0.05159332,\n",
              "        0.02883156]),\n",
              " array([0.2185129 , 0.20940819, 0.19119879, ..., 0.02731411, 0.01062215,\n",
              "        0.0091047 ]),\n",
              " array([ 0.16995448,  0.15933232,  0.15022762, ..., -0.01213961,\n",
              "         0.0091047 ,  0.01213961]),\n",
              " array([ 0.15022762,  0.14719272,  0.15933232, ...,  0.0060698 ,\n",
              "        -0.01213961, -0.01062215]),\n",
              " array([ 0.01972686,  0.0091047 ,  0.01669196, ..., -0.0030349 ,\n",
              "         0.00151745,  0.0030349 ]),\n",
              " array([0.01820941, 0.02883156, 0.03186646, ..., 0.02276176, 0.02124431,\n",
              "        0.03490137]),\n",
              " array([-0.3383915 , -0.37632777, -0.37936267, ...,  0.02883156,\n",
              "         0.00455235, -0.01062215]),\n",
              " array([ 0.00151745, -0.00758725, -0.00455235, ...,  0.0091047 ,\n",
              "         0.00151745, -0.01213961]),\n",
              " array([-0.10622155, -0.1047041 , -0.09711684, ...,  0.03186646,\n",
              "         0.01062215,  0.0060698 ]),\n",
              " array([-7.13201821e-02, -7.73899848e-02, -6.52503794e-02, ...,\n",
              "         9.10470410e-03,  1.53950926e-17, -6.06980273e-03]),\n",
              " array([-7.10542736e-18, -7.58725341e-03, -2.12443096e-02, ...,\n",
              "        -8.95295903e-02, -8.49772382e-02, -7.58725341e-02]),\n",
              " array([ 0.01972686,  0.01365706,  0.0091047 , ..., -0.0060698 ,\n",
              "        -0.0030349 , -0.0060698 ]),\n",
              " array([ 0.01972686,  0.01820941,  0.00151745, ..., -0.04097117,\n",
              "        -0.03186646, -0.03034901]),\n",
              " array([ 1.51745068e-02,  1.51745068e-03, -1.18423789e-18, ...,\n",
              "        -7.28376328e-02, -7.28376328e-02, -6.52503794e-02]),\n",
              " array([-0.00455235, -0.01213961, -0.0091047 , ..., -0.08194234,\n",
              "        -0.07435508, -0.06525038]),\n",
              " array([-1.51745068e-03, -1.18423789e-17, -1.06221548e-02, ...,\n",
              "        -5.46282246e-02, -6.06980273e-02, -7.13201821e-02]),\n",
              " array([ 1.30266168e-17,  1.06221548e-02, -4.55235205e-03, ...,\n",
              "        -8.49772382e-02, -8.64946889e-02, -9.71168437e-02]),\n",
              " array([ 0.01213961,  0.01213961,  0.01213961, ..., -0.04704097,\n",
              "        -0.06373293, -0.05766313]),\n",
              " array([ 0.00758725,  0.0060698 , -0.0030349 , ...,  0.04248862,\n",
              "         0.03793627,  0.04248862]),\n",
              " array([-0.0060698 ,  0.05007587,  0.07890744, ...,  0.04855842,\n",
              "         0.04097117,  0.05159332]),\n",
              " array([-0.06069803, -0.07132018, -0.06676783, ...,  0.02276176,\n",
              "         0.03338392,  0.02124431]),\n",
              " array([-0.02124431, -0.00758725, -0.0030349 , ...,  0.01517451,\n",
              "         0.02427921,  0.02579666]),\n",
              " array([-9.47390314e-18, -4.55235205e-03,  1.51745068e-03, ...,\n",
              "         3.49013657e-02,  3.64188164e-02,  2.27617602e-02]),\n",
              " array([0.0030349 , 0.00455235, 0.00758725, ..., 0.01517451, 0.01820941,\n",
              "        0.00455235]),\n",
              " array([0.04855842, 0.03338392, 0.02276176, ..., 0.07283763, 0.07132018,\n",
              "        0.05159332]),\n",
              " array([-0.01820941, -0.01365706, -0.01213961, ...,  0.02276176,\n",
              "         0.02427921,  0.01669196]),\n",
              " array([ 0.02579666,  0.02579666,  0.01365706, ..., -0.02731411,\n",
              "        -0.02427921, -0.03338392]),\n",
              " array([ 0.03490137,  0.0091047 , -0.0030349 , ..., -0.02883156,\n",
              "        -0.02579666, -0.03034901]),\n",
              " array([ 0.03034901,  0.04400607,  0.05462822, ..., -0.02731411,\n",
              "        -0.03034901, -0.03490137]),\n",
              " array([ 0.04704097,  0.04855842,  0.04248862, ..., -0.0030349 ,\n",
              "         0.00151745, -0.00455235]),\n",
              " array([ 0.03490137,  0.03641882,  0.03186646, ..., -0.03186646,\n",
              "        -0.03338392, -0.03641882]),\n",
              " array([0.04248862, 0.04248862, 0.04400607, ..., 0.0091047 , 0.01365706,\n",
              "        0.0030349 ]),\n",
              " array([-0.02731411, -0.02731411, -0.02731411, ...,  0.0091047 ,\n",
              "         0.01062215,  0.00758725]),\n",
              " array([-0.00758725, -0.0091047 , -0.00455235, ...,  0.01365706,\n",
              "         0.0091047 ,  0.01213961]),\n",
              " array([-0.07283763, -0.09408194, -0.08042489, ...,  0.02124431,\n",
              "         0.01972686,  0.00455235]),\n",
              " array([-0.03186646, -0.04855842, -0.03338392, ...,  0.03034901,\n",
              "         0.04097117,  0.04097117]),\n",
              " array([-0.05614568, -0.03945372, -0.02276176, ..., -0.04097117,\n",
              "        -0.04704097, -0.05007587]),\n",
              " array([-0.03034901, -0.03793627, -0.01062215, ...,  0.0030349 ,\n",
              "        -0.02427921, -0.05007587]),\n",
              " array([-0.03793627, -0.03490137, -0.06221548, ..., -0.02579666,\n",
              "        -0.02276176, -0.02427921]),\n",
              " array([ 0.05766313,  0.05311077,  0.04855842, ..., -0.06980273,\n",
              "        -0.06069803, -0.06373293]),\n",
              " array([-0.00151745,  0.01062215,  0.00151745, ..., -0.03338392,\n",
              "        -0.03490137, -0.03490137]),\n",
              " array([-4.55235205e-03, -6.06980273e-03,  3.03490137e-03, ...,\n",
              "         4.73695157e-18, -4.55235205e-03, -1.51745068e-03]),\n",
              " array([0.02883156, 0.02276176, 0.02883156, ..., 0.08042489, 0.08194234,\n",
              "        0.08952959]),\n",
              " array([-0.02883156, -0.02276176, -0.01062215, ...,  0.13808801,\n",
              "         0.13960546,  0.13353566]),\n",
              " array([-0.06221548, -0.05766313, -0.05159332, ...,  0.12594841,\n",
              "         0.12594841,  0.12594841]),\n",
              " array([-0.09104704, -0.08801214, -0.08194234, ...,  0.11836115,\n",
              "         0.12139605,  0.13201821]),\n",
              " array([0.01669196, 0.01820941, 0.01820941, ..., 0.02731411, 0.02883156,\n",
              "        0.02579666]),\n",
              " array([ 5.92118946e-18,  1.51745068e-03,  7.58725341e-03, ...,\n",
              "        -1.51745068e-03, -3.03490137e-03, -4.55235205e-03]),\n",
              " array([0.01365706, 0.01213961, 0.01669196, ..., 0.04704097, 0.04097117,\n",
              "        0.03641882]),\n",
              " array([0.01213961, 0.02427921, 0.01669196, ..., 0.02276176, 0.02883156,\n",
              "        0.01972686]),\n",
              " array([0.02883156, 0.03641882, 0.04400607, ..., 0.01820941, 0.01669196,\n",
              "        0.02427921]),\n",
              " array([0.01669196, 0.0091047 , 0.03338392, ..., 0.03034901, 0.02276176,\n",
              "        0.02579666]),\n",
              " array([0.01062215, 0.02124431, 0.0091047 , ..., 0.04400607, 0.03641882,\n",
              "        0.03641882]),\n",
              " array([3.03490137e-03, 1.42108547e-17, 1.36570561e-02, ...,\n",
              "        1.36570561e-02, 2.42792109e-02, 3.33839150e-02]),\n",
              " array([-0.05766313, -0.05766313, -0.05614568, ...,  0.02579666,\n",
              "         0.03034901,  0.01669196]),\n",
              " array([-0.0060698 ,  0.01365706,  0.01517451, ..., -0.01062215,\n",
              "        -0.0091047 , -0.01517451]),\n",
              " array([ 0.01972686,  0.00151745, -0.02276176, ..., -0.01213961,\n",
              "        -0.01365706, -0.01365706]),\n",
              " array([-0.00151745, -0.0060698 , -0.02124431, ..., -0.00455235,\n",
              "        -0.0060698 ,  0.00758725]),\n",
              " array([ 0.02427921,  0.02427921,  0.01669196, ..., -0.01517451,\n",
              "        -0.01213961,  0.02579666]),\n",
              " array([-0.06676783, -0.05614568, -0.03945372, ..., -0.07283763,\n",
              "        -0.06221548, -0.09104704]),\n",
              " array([-0.06828528, -0.05462822, -0.05766313, ..., -0.00455235,\n",
              "        -0.02276176, -0.01669196]),\n",
              " array([-0.05311077, -0.04097117, -0.02427921, ...,  0.0091047 ,\n",
              "        -0.00758725, -0.04855842]),\n",
              " array([-0.09408194, -0.08042489, -0.07890744, ..., -0.06525038,\n",
              "        -0.07283763, -0.07587253]),\n",
              " array([-0.09408194, -0.08042489, -0.10015175, ..., -0.06069803,\n",
              "        -0.07738998, -0.05766313]),\n",
              " array([-0.09256449, -0.1016692 , -0.11836115, ..., -0.06676783,\n",
              "        -0.06373293, -0.05766313]),\n",
              " array([0.02579666, 0.02124431, 0.01517451, ..., 0.02579666, 0.02124431,\n",
              "        0.01820941]),\n",
              " array([-0.00151745,  0.00151745, -0.00151745, ...,  0.01517451,\n",
              "         0.02731411,  0.04400607]),\n",
              " array([0.03338392, 0.01669196, 0.0060698 , ..., 0.03945372, 0.01972686,\n",
              "        0.01213961]),\n",
              " array([0.01669196, 0.00151745, 0.01669196, ..., 0.03034901, 0.03186646,\n",
              "        0.01820941]),\n",
              " array([0.03490137, 0.03490137, 0.02883156, ..., 0.01517451, 0.01517451,\n",
              "        0.03186646]),\n",
              " array([0.03641882, 0.03641882, 0.03034901, ..., 0.02579666, 0.02276176,\n",
              "        0.02427921]),\n",
              " array([0.07132018, 0.05007587, 0.07587253, ..., 0.05614568, 0.06221548,\n",
              "        0.04097117]),\n",
              " array([0.13505311, 0.08801214, 0.06676783, ..., 0.08194234, 0.08801214,\n",
              "        0.01669196]),\n",
              " array([0.07738998, 0.09711684, 0.07890744, ..., 0.10622155, 0.08042489,\n",
              "        0.07283763]),\n",
              " array([0.08497724, 0.08497724, 0.05918058, ..., 0.04552352, 0.07890744,\n",
              "        0.07435508]),\n",
              " array([0.06221548, 0.07738998, 0.08649469, ..., 0.06221548, 0.03490137,\n",
              "        0.01972686]),\n",
              " array([0.09559939, 0.09408194, 0.09559939, ..., 0.0091047 , 0.07132018,\n",
              "        0.06980273]),\n",
              " array([0.06373293, 0.07738998, 0.107739  , ..., 0.03641882, 0.03490137,\n",
              "        0.04704097]),\n",
              " array([0.08952959, 0.08194234, 0.09408194, ..., 0.06828528, 0.06373293,\n",
              "        0.06980273]),\n",
              " array([0.08194234, 0.07890744, 0.1016692 , ..., 0.05159332, 0.07435508,\n",
              "        0.03641882]),\n",
              " array([0.12594841, 0.07587253, 0.12443096, ..., 0.04855842, 0.07283763,\n",
              "        0.06980273]),\n",
              " array([0.1047041 , 0.107739  , 0.1168437 , ..., 0.06221548, 0.05007587,\n",
              "        0.03034901]),\n",
              " array([0.10622155, 0.1047041 , 0.10318665, ..., 0.05007587, 0.04097117,\n",
              "        0.04552352]),\n",
              " array([0.07283763, 0.107739  , 0.1016692 , ..., 0.05462822, 0.04248862,\n",
              "        0.05311077]),\n",
              " array([-0.03793627, -0.02883156, -0.04248862, ...,  0.06373293,\n",
              "         0.04552352,  0.05159332]),\n",
              " array([-0.06221548, -0.06525038, -0.05311077, ...,  0.04248862,\n",
              "         0.06828528,  0.05614568]),\n",
              " array([-0.06980273, -0.06525038, -0.05311077, ...,  0.06676783,\n",
              "         0.05007587,  0.07435508]),\n",
              " array([-0.03186646, -0.02883156, -0.00151745, ...,  0.06980273,\n",
              "         0.09711684,  0.07132018]),\n",
              " array([-0.01213961, -0.03186646, -0.01669196, ...,  0.04552352,\n",
              "         0.05159332,  0.08194234]),\n",
              " array([0.02883156, 0.03186646, 0.05007587, ..., 0.07587253, 0.06221548,\n",
              "        0.04248862]),\n",
              " array([0.05766313, 0.00758725, 0.04097117, ..., 0.09408194, 0.09408194,\n",
              "        0.1047041 ]),\n",
              " array([-0.14871017, -0.15326252, -0.16388467, ..., -0.01972686,\n",
              "        -0.00151745, -0.02124431]),\n",
              " array([-0.19423369, -0.18361153, -0.19119879, ..., -0.04248862,\n",
              "        -0.06221548, -0.05007587]),\n",
              " array([-0.18057663, -0.18209408, -0.17754173, ..., -0.04704097,\n",
              "        -0.05159332, -0.05007587]),\n",
              " array([-0.13050076, -0.12443096, -0.12594841, ..., -0.00758725,\n",
              "         0.03490137,  0.0060698 ]),\n",
              " array([-0.03034901, -0.05311077, -0.06525038, ...,  0.04248862,\n",
              "         0.08194234,  0.09711684]),\n",
              " array([-1.66919575e-02, -3.33839150e-02, -4.55235205e-02, ...,\n",
              "         1.51745068e-03, -1.18423789e-18, -1.66919575e-02]),\n",
              " array([-0.02124431, -0.01972686, -0.00455235, ...,  0.03641882,\n",
              "         0.03641882,  0.02579666]),\n",
              " array([-0.11229135, -0.12898331, -0.13050076, ...,  0.29438543,\n",
              "         0.29135053,  0.27769347]),\n",
              " array([-0.08649469, -0.08952959, -0.08497724, ...,  0.24886191,\n",
              "         0.23672231,  0.23823976]),\n",
              " array([ 0.16388467,  0.16540212,  0.17298938, ..., -0.07738998,\n",
              "        -0.07587253, -0.07890744]),\n",
              " array([ 0.29438543,  0.29286798,  0.28528073, ..., -0.03338392,\n",
              "        -0.03338392, -0.02731411]),\n",
              " array([0.32018209, 0.32018209, 0.30045524, ..., 0.04704097, 0.04097117,\n",
              "        0.03186646]),\n",
              " array([0.3262519 , 0.3323217 , 0.3292868 , ..., 0.08345979, 0.07890744,\n",
              "        0.06373293]),\n",
              " array([0.07132018, 0.06069803, 0.06069803, ..., 0.06980273, 0.05159332,\n",
              "        0.06980273]),\n",
              " array([0.04248862, 0.05007587, 0.05918058, ..., 0.07738998, 0.07283763,\n",
              "        0.07890744]),\n",
              " array([0.03793627, 0.04855842, 0.00758725, ..., 0.06525038, 0.07132018,\n",
              "        0.06980273]),\n",
              " array([-0.02579666, -0.0091047 , -0.01365706, ...,  0.04400607,\n",
              "         0.04552352,  0.06525038]),\n",
              " array([-0.00455235, -0.01517451, -0.01820941, ...,  0.08497724,\n",
              "         0.10015175,  0.11229135]),\n",
              " array([0.01972686, 0.02124431, 0.02124431, ..., 0.03034901, 0.03641882,\n",
              "        0.02124431]),\n",
              " array([ 0.01213961, -0.00758725, -0.01062215, ...,  0.02883156,\n",
              "         0.03186646,  0.03186646]),\n",
              " array([ 0.03490137,  0.01669196,  0.03945372, ..., -0.01213961,\n",
              "        -0.01062215, -0.0060698 ]),\n",
              " array([ 0.00151745,  0.0060698 ,  0.03186646, ..., -0.01213961,\n",
              "        -0.03641882, -0.0060698 ]),\n",
              " array([ 0.01669196,  0.0060698 , -0.00151745, ..., -0.04855842,\n",
              "        -0.01365706, -0.00758725]),\n",
              " array([ 0.01062215, -0.00151745,  0.03034901, ..., -0.06980273,\n",
              "        -0.06980273, -0.08952959]),\n",
              " array([ 0.00151745,  0.02579666,  0.03338392, ..., -0.07435508,\n",
              "        -0.08649469, -0.1016692 ]),\n",
              " array([ 0.05462822,  0.04400607,  0.01365706, ...,  0.00758725,\n",
              "        -0.00151745,  0.01213961]),\n",
              " array([ 0.04097117,  0.04400607,  0.03034901, ..., -0.02579666,\n",
              "         0.03490137, -0.01213961]),\n",
              " array([-2.27617602e-02, -1.82094082e-02, -4.55235205e-03, ...,\n",
              "         2.84217094e-17, -1.06221548e-02, -2.27617602e-02]),\n",
              " array([ 1.06221548e-02, -1.42108547e-17, -3.03490137e-03, ...,\n",
              "        -1.51745068e-02, -7.58725341e-03, -1.21396055e-02]),\n",
              " array([-0.03490137, -0.03338392, -0.02427921, ..., -0.02124431,\n",
              "        -0.02124431, -0.01062215]),\n",
              " array([0.0060698 , 0.01365706, 0.01062215, ..., 0.00758725, 0.01213961,\n",
              "        0.00151745]),\n",
              " array([0.02276176, 0.01820941, 0.01669196, ..., 0.03034901, 0.03034901,\n",
              "        0.03641882]),\n",
              " array([ 0.01062215, -0.0030349 ,  0.01517451, ..., -0.00151745,\n",
              "        -0.0030349 , -0.01669196]),\n",
              " array([-0.00151745,  0.00151745, -0.0091047 , ..., -0.0060698 ,\n",
              "        -0.02427921, -0.01365706]),\n",
              " array([-0.00151745, -0.0030349 , -0.0091047 , ...,  0.00151745,\n",
              "        -0.02427921, -0.00151745]),\n",
              " array([-0.00151745, -0.0091047 , -0.0030349 , ...,  0.09256449,\n",
              "         0.07283763,  0.07132018]),\n",
              " array([0.00455235, 0.0091047 , 0.01062215, ..., 0.16084977, 0.16236722,\n",
              "        0.15933232]),\n",
              " array([0.0091047 , 0.02883156, 0.0060698 , ..., 0.1198786 , 0.12443096,\n",
              "        0.15174507]),\n",
              " array([-0.01820941, -0.01365706, -0.01669196, ...,  0.11532625,\n",
              "         0.09104704,  0.1016692 ]),\n",
              " array([0.04400607, 0.03034901, 0.03945372, ..., 0.06069803, 0.09559939,\n",
              "        0.12443096]),\n",
              " array([0.03945372, 0.03186646, 0.03641882, ..., 0.01972686, 0.01062215,\n",
              "        0.00758725]),\n",
              " array([ 0.01820941,  0.02731411,  0.01669196, ...,  0.01062215,\n",
              "         0.0060698 , -0.00151745]),\n",
              " array([-0.01213961, -0.01365706, -0.03338392, ...,  0.01062215,\n",
              "         0.01213961,  0.01820941]),\n",
              " array([0.01972686, 0.02883156, 0.03186646, ..., 0.02276176, 0.02579666,\n",
              "        0.02427921]),\n",
              " array([0.02731411, 0.02276176, 0.02276176, ..., 0.01972686, 0.01972686,\n",
              "        0.01820941]),\n",
              " array([0.04855842, 0.04855842, 0.04097117, ..., 0.01365706, 0.01365706,\n",
              "        0.01213961]),\n",
              " array([-0.03338392, -0.03793627, -0.04248862, ..., -0.10622155,\n",
              "        -0.06676783, -0.05766313]),\n",
              " array([ 0.0030349 , -0.01669196,  0.0091047 , ..., -0.05918058,\n",
              "        -0.07587253, -0.07435508]),\n",
              " array([-0.01213961, -0.06980273, -0.02427921, ..., -0.06676783,\n",
              "        -0.05311077, -0.07283763]),\n",
              " array([ 0.03186646,  0.05462822,  0.05007587, ..., -0.05918058,\n",
              "        -0.04097117, -0.05918058]),\n",
              " array([-0.04248862, -0.04097117, -0.02276176, ..., -0.07283763,\n",
              "        -0.04400607,  0.0091047 ]),\n",
              " array([-0.03490137, -0.04552352, -0.05159332, ...,  0.0030349 ,\n",
              "         0.03641882, -0.01062215]),\n",
              " array([0.04855842, 0.05462822, 0.04704097, ..., 0.04552352, 0.03793627,\n",
              "        0.03641882]),\n",
              " array([0.06828528, 0.07587253, 0.08497724, ..., 0.03490137, 0.03793627,\n",
              "        0.03490137]),\n",
              " array([0.07132018, 0.07283763, 0.07132018, ..., 0.08649469, 0.09408194,\n",
              "        0.08345979]),\n",
              " array([0.05918058, 0.08194234, 0.09104704, ..., 0.07435508, 0.08042489,\n",
              "        0.08194234]),\n",
              " array([0.06373293, 0.05766313, 0.05766313, ..., 0.03793627, 0.05766313,\n",
              "        0.05311077]),\n",
              " array([0.05462822, 0.04400607, 0.03945372, ..., 0.06069803, 0.06828528,\n",
              "        0.06525038]),\n",
              " array([0.01669196, 0.02579666, 0.01365706, ..., 0.03186646, 0.02579666,\n",
              "        0.02883156]),\n",
              " array([-0.0060698 , -0.00455235, -0.01062215, ...,  0.00455235,\n",
              "        -0.0091047 , -0.00758725]),\n",
              " array([-0.0091047 , -0.0060698 ,  0.0030349 , ...,  0.00151745,\n",
              "        -0.01213961,  0.01820941]),\n",
              " array([ 0.01213961,  0.02124431,  0.01062215, ..., -0.03186646,\n",
              "        -0.03338392, -0.02427921]),\n",
              " array([ 0.02124431,  0.01972686,  0.02427921, ..., -0.0091047 ,\n",
              "        -0.00758725, -0.01669196]),\n",
              " array([-0.0030349 ,  0.0060698 ,  0.02124431, ..., -0.01820941,\n",
              "        -0.00758725, -0.00151745]),\n",
              " array([ 0.02731411,  0.04855842,  0.06828528, ..., -0.03793627,\n",
              "        -0.06525038, -0.05462822]),\n",
              " array([ 0.04097117,  0.04248862, -0.00758725, ...,  0.04400607,\n",
              "         0.05311077,  0.05766313]),\n",
              " array([-0.06828528, -0.107739  , -0.07283763, ...,  0.09863429,\n",
              "         0.08649469,  0.04248862]),\n",
              " array([-0.00455235, -0.0030349 , -0.02124431, ..., -0.04248862,\n",
              "        -0.0091047 ,  0.02124431]),\n",
              " array([ 0.03490137, -0.00455235, -0.05159332, ...,  0.00455235,\n",
              "         0.04097117,  0.05614568]),\n",
              " array([-0.01213961,  0.03793627,  0.06069803, ...,  0.03186646,\n",
              "         0.0091047 ,  0.00758725]),\n",
              " array([ 0.09256449,  0.1107739 ,  0.08497724, ..., -0.03338392,\n",
              "        -0.02276176, -0.02883156]),\n",
              " array([-0.01062215, -0.03490137, -0.04248862, ...,  0.01213961,\n",
              "         0.03186646,  0.02427921]),\n",
              " array([-3.64188164e-02, -4.40060698e-02, -4.85584219e-02, ...,\n",
              "         4.24886191e-02,  2.12443096e-02, -4.73695157e-18]),\n",
              " array([0.1107739 , 0.18816388, 0.27010622, ..., 0.08194234, 0.11836115,\n",
              "        0.13960546]),\n",
              " array([0.20182094, 0.16995448, 0.18664643, ..., 0.05614568, 0.02276176,\n",
              "        0.06069803]),\n",
              " array([0.07283763, 0.02883156, 0.01213961, ..., 0.02883156, 0.03338392,\n",
              "        0.06373293]),\n",
              " array([ 0.00151745,  0.01820941,  0.01062215, ..., -0.00151745,\n",
              "         0.00151745,  0.00758725]),\n",
              " array([ 0.02124431, -0.01365706, -0.02124431, ...,  0.08194234,\n",
              "         0.06525038,  0.03641882]),\n",
              " array([-0.07435508, -0.05614568, -0.03490137, ..., -0.02883156,\n",
              "        -0.02579666, -0.02427921]),\n",
              " array([-0.05614568, -0.03641882, -0.0030349 , ..., -0.09256449,\n",
              "        -0.07435508, -0.06069803]),\n",
              " array([-0.01820941, -0.05462822, -0.04552352, ..., -0.0060698 ,\n",
              "         0.01062215,  0.01365706]),\n",
              " array([ 0.03186646, -0.02427921, -0.03034901, ..., -0.05918058,\n",
              "        -0.07132018, -0.03490137]),\n",
              " array([ 0.06069803,  0.03793627,  0.02883156, ..., -0.03945372,\n",
              "        -0.05007587, -0.06828528]),\n",
              " array([-0.01365706, -0.01517451,  0.02731411, ..., -0.13201821,\n",
              "        -0.13960546, -0.06828528]),\n",
              " array([-0.02883156, -0.04248862, -0.04855842, ...,  0.0091047 ,\n",
              "        -0.00151745,  0.0091047 ]),\n",
              " array([-0.05918058, -0.06980273, -0.07132018, ..., -0.01365706,\n",
              "         0.01820941,  0.01820941]),\n",
              " array([-0.08042489, -0.08497724, -0.07283763, ..., -0.0030349 ,\n",
              "        -0.00758725,  0.01062215]),\n",
              " array([-0.08952959, -0.09104704, -0.08801214, ..., -0.00455235,\n",
              "         0.0030349 , -0.00151745]),\n",
              " array([-0.08042489, -0.06373293, -0.06676783, ..., -0.00758725,\n",
              "        -0.00758725, -0.00758725]),\n",
              " array([-0.01669196, -0.02883156, -0.02427921, ...,  0.02124431,\n",
              "         0.04400607,  0.03034901]),\n",
              " array([-0.08042489, -0.09104704, -0.08497724, ..., -0.05614568,\n",
              "        -0.06069803, -0.05462822]),\n",
              " array([-0.14264036, -0.14871017, -0.14112291, ..., -0.04855842,\n",
              "        -0.02883156, -0.04097117]),\n",
              " array([-0.08194234, -0.09711684, -0.08801214, ..., -0.00455235,\n",
              "        -0.0060698 , -0.0060698 ]),\n",
              " array([-0.06980273, -0.07283763, -0.05614568, ..., -0.03034901,\n",
              "        -0.02427921, -0.01213961]),\n",
              " array([-0.06221548, -0.07890744, -0.07283763, ...,  0.01669196,\n",
              "         0.0091047 ,  0.0060698 ]),\n",
              " array([-0.07738998, -0.06069803, -0.06221548, ...,  0.01669196,\n",
              "         0.01062215,  0.01669196]),\n",
              " array([-0.0060698 , -0.01820941,  0.01820941, ..., -0.10318665,\n",
              "        -0.08649469, -0.06676783]),\n",
              " array([0.09104704, 0.08345979, 0.07283763, ..., 0.03490137, 0.06069803,\n",
              "        0.1107739 ]),\n",
              " array([0.16236722, 0.09104704, 0.07890744, ..., 0.0030349 , 0.04855842,\n",
              "        0.08649469]),\n",
              " array([0.11836115, 0.09559939, 0.07435508, ..., 0.02124431, 0.06069803,\n",
              "        0.07587253]),\n",
              " array([ 0.10622155,  0.11229135,  0.03034901, ...,  0.03490137,\n",
              "        -0.02579666,  0.00758725]),\n",
              " array([ 0.0030349 ,  0.04400607,  0.08345979, ...,  0.06828528,\n",
              "         0.04097117, -0.0030349 ]),\n",
              " array([ 0.01669196, -0.01213961, -0.02731411, ...,  0.10015175,\n",
              "         0.10015175,  0.10925645]),\n",
              " array([0.10015175, 0.09559939, 0.09711684, ..., 0.05007587, 0.04855842,\n",
              "        0.05311077]),\n",
              " array([0.08497724, 0.08042489, 0.08801214, ..., 0.03186646, 0.03490137,\n",
              "        0.02579666]),\n",
              " array([0.06676783, 0.06676783, 0.06525038, ..., 0.05159332, 0.04552352,\n",
              "        0.04248862]),\n",
              " array([0.05159332, 0.05159332, 0.06069803, ..., 0.03641882, 0.03641882,\n",
              "        0.03641882]),\n",
              " array([0.06221548, 0.06676783, 0.05766313, ..., 0.04097117, 0.02579666,\n",
              "        0.03338392]),\n",
              " array([0.05614568, 0.05766313, 0.04855842, ..., 0.02579666, 0.02124431,\n",
              "        0.03186646]),\n",
              " array([0.04248862, 0.04552352, 0.04552352, ..., 0.02276176, 0.02276176,\n",
              "        0.03034901]),\n",
              " array([-0.1047041 , -0.15022762, -0.16388467, ..., -0.17905918,\n",
              "        -0.18664643, -0.20940819]),\n",
              " array([-0.04552352, -0.06676783, -0.08345979, ..., -0.10925645,\n",
              "        -0.11836115, -0.12139605]),\n",
              " array([-0.05918058, -0.07738998, -0.1016692 , ..., -0.01669196,\n",
              "        -0.08345979, -0.07283763]),\n",
              " array([-0.05159332, -0.07890744, -0.09711684, ..., -0.02579666,\n",
              "        -0.06525038, -0.08345979]),\n",
              " array([-0.01213961, -0.05614568, -0.06676783, ..., -0.08042489,\n",
              "        -0.06069803,  0.03793627]),\n",
              " array([-0.18209408, -0.1168437 , -0.15477997, ..., -0.1047041 ,\n",
              "        -0.06221548, -0.04097117]),\n",
              " array([-0.00758725, -0.01062215, -0.06373293, ...,  0.04855842,\n",
              "         0.03186646,  0.01213961]),\n",
              " array([ 0.00455235, -0.01365706, -0.04552352, ...,  0.05766313,\n",
              "         0.02883156,  0.00455235]),\n",
              " array([-0.04248862,  0.00151745,  0.02731411, ..., -0.09256449,\n",
              "        -0.08042489, -0.03945372]),\n",
              " array([-0.04855842, -0.03490137, -0.00151745, ..., -0.04248862,\n",
              "        -0.07435508, -0.08952959]),\n",
              " array([0.07435508, 0.06221548, 0.03793627, ..., 0.06828528, 0.1168437 ,\n",
              "        0.12898331]),\n",
              " array([0.06069803, 0.04855842, 0.00758725, ..., 0.15174507, 0.17754173,\n",
              "        0.18209408]),\n",
              " array([0.01365706, 0.05918058, 0.06373293, ..., 0.1107739 , 0.12139605,\n",
              "        0.12898331]),\n",
              " array([-0.28983308, -0.26555387, -0.21699545, ...,  0.05159332,\n",
              "         0.01213961, -0.00455235]),\n",
              " array([-0.03186646, -0.05159332,  0.00151745, ...,  0.08649469,\n",
              "         0.07587253,  0.03034901]),\n",
              " array([-0.02124431, -0.04248862, -0.02883156, ...,  0.09711684,\n",
              "         0.05614568,  0.04248862]),\n",
              " array([-0.01517451, -0.00151745,  0.00151745, ..., -0.01669196,\n",
              "        -0.03186646, -0.0060698 ]),\n",
              " array([0.06221548, 0.02731411, 0.02427921, ..., 0.03490137, 0.05614568,\n",
              "        0.07283763]),\n",
              " array([-0.08194234, -0.07890744, -0.04248862, ...,  0.05007587,\n",
              "         0.02731411, -0.01213961]),\n",
              " array([0.02883156, 0.03490137, 0.04704097, ..., 0.00455235, 0.03338392,\n",
              "        0.0060698 ]),\n",
              " array([ 0.02731411,  0.00455235, -0.00151745, ...,  0.04248862,\n",
              "         0.06676783,  0.05462822]),\n",
              " array([0.06373293, 0.04097117, 0.02579666, ..., 0.02731411, 0.03641882,\n",
              "        0.05766313]),\n",
              " array([ 0.01062215, -0.00455235, -0.02579666, ...,  0.04552352,\n",
              "         0.06828528,  0.08497724]),\n",
              " array([-0.0030349 ,  0.03490137,  0.02427921, ...,  0.01213961,\n",
              "        -0.0091047 , -0.00151745]),\n",
              " array([0.04097117, 0.06525038, 0.05311077, ..., 0.01669196, 0.0091047 ,\n",
              "        0.01669196]),\n",
              " array([ 0.00455235, -0.01062215, -0.01669196, ...,  0.01213961,\n",
              "        -0.03793627, -0.04552352]),\n",
              " array([ 0.00151745,  0.03945372,  0.05007587, ..., -0.0030349 ,\n",
              "         0.01517451,  0.06373293]),\n",
              " array([ 0.0091047 , -0.02579666, -0.03338392, ...,  0.0091047 ,\n",
              "        -0.03034901, -0.03641882]),\n",
              " array([0.01669196, 0.05766313, 0.05311077, ..., 0.02883156, 0.04248862,\n",
              "        0.04855842]),\n",
              " array([-0.0030349 ,  0.00758725, -0.0030349 , ...,  0.04552352,\n",
              "         0.04704097,  0.01820941]),\n",
              " array([-0.02731411,  0.01365706,  0.05159332, ...,  0.01365706,\n",
              "         0.03641882,  0.06980273]),\n",
              " array([-0.03034901, -0.03793627, -0.02883156, ..., -0.02883156,\n",
              "        -0.02731411, -0.01365706]),\n",
              " array([ 0.12898331,  0.10318665,  0.10622155, ..., -0.06676783,\n",
              "        -0.05462822, -0.08345979]),\n",
              " array([ 0.13657056,  0.13657056,  0.1198786 , ..., -0.15477997,\n",
              "        -0.12443096, -0.09711684]),\n",
              " array([ 0.07132018,  0.08345979,  0.10622155, ..., -0.07132018,\n",
              "        -0.06828528, -0.08497724]),\n",
              " array([ 0.1198786 ,  0.13505311,  0.11229135, ..., -0.1198786 ,\n",
              "        -0.13808801, -0.09863429]),\n",
              " array([ 0.07283763,  0.10925645,  0.09559939, ..., -0.05007587,\n",
              "        -0.03034901, -0.04552352]),\n",
              " array([0.03338392, 0.0091047 , 0.00151745, ..., 0.03945372, 0.04552352,\n",
              "        0.01669196]),\n",
              " array([0.03034901, 0.02276176, 0.00151745, ..., 0.01972686, 0.07132018,\n",
              "        0.1016692 ]),\n",
              " array([-0.1016692 , -0.11836115, -0.13201821, ...,  0.06221548,\n",
              "         0.01669196,  0.01669196]),\n",
              " array([-0.01972686, -0.0030349 ,  0.02276176, ...,  0.07890744,\n",
              "         0.04400607,  0.06525038]),\n",
              " array([-0.02427921, -0.04248862, -0.10015175, ...,  0.09559939,\n",
              "         0.07587253,  0.07890744]),\n",
              " array([-0.12898331, -0.05918058, -0.02883156, ..., -0.02427921,\n",
              "        -0.04097117, -0.05462822]),\n",
              " array([-4.09711684e-02, -1.12291351e-01, -1.04704097e-01, ...,\n",
              "        -3.94537178e-02, -1.06221548e-02, -2.84217094e-17]),\n",
              " array([-0.11229135, -0.08042489, -0.05159332, ..., -0.12594841,\n",
              "        -0.17602428, -0.16236722]),\n",
              " array([0.06980273, 0.07738998, 0.08345979, ..., 0.05614568, 0.05918058,\n",
              "        0.07283763]),\n",
              " array([0.05918058, 0.06373293, 0.04552352, ..., 0.16388467, 0.16236722,\n",
              "        0.14112291]),\n",
              " array([0.11836115, 0.1138088 , 0.1138088 , ..., 0.10925645, 0.10925645,\n",
              "        0.1168437 ]),\n",
              " array([0.08952959, 0.09711684, 0.11836115, ..., 0.02579666, 0.03641882,\n",
              "        0.03490137]),\n",
              " array([ 0.10925645,  0.09104704,  0.08345979, ..., -0.02276176,\n",
              "        -0.01820941, -0.02276176]),\n",
              " array([ 0.08952959,  0.08649469,  0.07132018, ..., -0.05159332,\n",
              "        -0.03186646, -0.03641882]),\n",
              " array([0.03490137, 0.02883156, 0.08952959, ..., 0.20940819, 0.24127466,\n",
              "        0.25189681]),\n",
              " array([ 0.03034901, -0.02883156,  0.01972686, ...,  0.31714719,\n",
              "         0.29742033,  0.29438543]),\n",
              " array([ 0.01213961, -0.04704097, -0.04552352, ...,  0.05311077,\n",
              "         0.06980273,  0.09711684]),\n",
              " array([-0.01972686, -0.01213961,  0.00758725, ...,  0.15933232,\n",
              "         0.15022762,  0.13657056]),\n",
              " array([-3.18664643e-02,  9.47390314e-18,  1.36570561e-02, ...,\n",
              "         1.32018209e-01,  1.27465857e-01,  1.50227618e-01]),\n",
              " array([0.01820941, 0.0030349 , 0.03034901, ..., 0.07132018, 0.04704097,\n",
              "        0.02427921]),\n",
              " array([ 0.04248862,  0.04552352,  0.01062215, ..., -0.03641882,\n",
              "        -0.0060698 ,  0.00455235]),\n",
              " array([-0.04855842, -0.10318665, -0.06069803, ...,  0.05311077,\n",
              "         0.02427921,  0.02883156]),\n",
              " array([ 0.01669196, -0.01062215,  0.01213961, ...,  0.00151745,\n",
              "        -0.03490137, -0.01972686]),\n",
              " array([ 0.01365706,  0.01062215,  0.06221548, ..., -0.02883156,\n",
              "        -0.03945372, -0.06828528]),\n",
              " array([-0.01062215, -0.01365706, -0.02276176, ...,  0.05007587,\n",
              "         0.04704097, -0.00455235]),\n",
              " array([ 0.05007587,  0.00758725, -0.02124431, ...,  0.00455235,\n",
              "         0.03186646,  0.08042489]),\n",
              " array([ 0.00151745,  0.00151745,  0.00151745, ...,  0.01972686,\n",
              "        -0.00758725, -0.0060698 ]),\n",
              " array([0.00151745, 0.00151745, 0.00151745, ..., 0.04097117, 0.05614568,\n",
              "        0.04855842]),\n",
              " array([ 1.51745068e-03,  1.51745068e-03,  1.51745068e-03, ...,\n",
              "         1.66919575e-02,  1.18423789e-17, -2.73141123e-02]),\n",
              " array([0.00151745, 0.00151745, 0.00151745, ..., 0.02124431, 0.03338392,\n",
              "        0.05766313]),\n",
              " array([-0.09863429, -0.09104704, -0.06525038, ...,  0.00758725,\n",
              "        -0.01669196, -0.02276176]),\n",
              " array([-0.03945372, -0.03945372, -0.06525038, ...,  0.04552352,\n",
              "         0.02427921,  0.01517451]),\n",
              " array([0.00151745, 0.02427921, 0.01669196, ..., 0.02883156, 0.04097117,\n",
              "        0.06373293]),\n",
              " array([0.05462822, 0.04704097, 0.02124431, ..., 0.03338392, 0.05614568,\n",
              "        0.05007587]),\n",
              " array([0.18664643, 0.20485584, 0.19878604, ..., 0.07738998, 0.09104704,\n",
              "        0.11229135]),\n",
              " array([0.12443096, 0.13960546, 0.14112291, ..., 0.06676783, 0.06221548,\n",
              "        0.05918058]),\n",
              " array([0.07132018, 0.04855842, 0.02579666, ..., 0.13505311, 0.13505311,\n",
              "        0.13657056]),\n",
              " array([0.09863429, 0.07283763, 0.07435508, ..., 0.10318665, 0.09559939,\n",
              "        0.08194234]),\n",
              " array([0.10622155, 0.1168437 , 0.1107739 , ..., 0.05918058, 0.05766313,\n",
              "        0.08042489]),\n",
              " array([0.07132018, 0.08345979, 0.08194234, ..., 0.08194234, 0.08952959,\n",
              "        0.1016692 ]),\n",
              " array([0.02124431, 0.02276176, 0.04855842, ..., 0.09408194, 0.07890744,\n",
              "        0.06980273]),\n",
              " array([-0.01062215, -0.01213961, -0.00758725, ..., -0.05614568,\n",
              "        -0.05311077, -0.04855842]),\n",
              " array([ 0.03338392,  0.04855842,  0.04704097, ..., -0.05766313,\n",
              "        -0.06676783, -0.07587253]),\n",
              " array([ 0.06676783,  0.08952959,  0.08497724, ..., -0.12746586,\n",
              "        -0.13201821, -0.10622155]),\n",
              " array([-0.05311077, -0.06828528, -0.05311077, ..., -0.08042489,\n",
              "        -0.08801214, -0.10015175]),\n",
              " array([-0.00758725, -0.01365706,  0.00758725, ..., -0.05311077,\n",
              "        -0.04400607, -0.06069803]),\n",
              " array([-0.05766313, -0.04248862, -0.04552352, ..., -0.10925645,\n",
              "        -0.11229135, -0.09863429]),\n",
              " array([-0.0030349 ,  0.0030349 , -0.01365706, ..., -0.07587253,\n",
              "        -0.04248862, -0.05462822]),\n",
              " array([ 0.07283763,  0.08042489,  0.06221548, ..., -0.06525038,\n",
              "        -0.05311077,  0.00455235]),\n",
              " array([ 0.04400607,  0.00455235, -0.02276176, ...,  0.05918058,\n",
              "         0.02883156,  0.03641882]),\n",
              " array([-0.0091047 ,  0.02124431,  0.00151745, ...,  0.03490137,\n",
              "         0.03034901,  0.01820941]),\n",
              " array([ 0.00151745,  0.01062215,  0.0091047 , ...,  0.0060698 ,\n",
              "        -0.03034901, -0.03490137]),\n",
              " array([ 0.0091047 ,  0.03338392,  0.07132018, ..., -0.04248862,\n",
              "        -0.07283763, -0.04248862]),\n",
              " array([-0.05462822, -0.03945372,  0.0060698 , ..., -0.04855842,\n",
              "        -0.03945372, -0.02276176]),\n",
              " array([-0.05918058, -0.00758725,  0.01972686, ...,  0.01365706,\n",
              "         0.02579666,  0.02276176]),\n",
              " array([ 0.01820941,  0.01820941,  0.01517451, ..., -0.03034901,\n",
              "        -0.02124431, -0.0030349 ]),\n",
              " array([-0.13505311, -0.17147193, -0.19575114, ..., -0.00151745,\n",
              "        -0.02579666, -0.01062215]),\n",
              " array([ 0.02124431,  0.04552352,  0.04704097, ..., -0.0091047 ,\n",
              "        -0.01062215, -0.02124431]),\n",
              " array([0.05007587, 0.04855842, 0.03186646, ..., 0.00151745, 0.01820941,\n",
              "        0.03490137]),\n",
              " array([-0.00151745, -0.01365706, -0.03034901, ...,  0.05007587,\n",
              "         0.03186646,  0.02883156]),\n",
              " array([0.04552352, 0.01820941, 0.0060698 , ..., 0.03186646, 0.03945372,\n",
              "        0.03945372]),\n",
              " array([-0.09711684, -0.1016692 , -0.09711684, ..., -0.04248862,\n",
              "        -0.06069803, -0.07435508]),\n",
              " array([-0.04400607, -0.06980273, -0.07738998, ..., -0.01517451,\n",
              "        -0.03641882, -0.06525038]),\n",
              " array([-0.0030349 ,  0.0091047 ,  0.00758725, ..., -0.05311077,\n",
              "        -0.02276176,  0.01669196]),\n",
              " array([-0.01669196,  0.01365706,  0.00151745, ..., -0.06221548,\n",
              "        -0.03945372, -0.01972686]),\n",
              " array([-0.05918058, -0.07890744, -0.08345979, ..., -0.01062215,\n",
              "        -0.02883156, -0.05462822]),\n",
              " array([-0.06373293, -0.08194234, -0.07587253, ...,  0.02276176,\n",
              "         0.01820941, -0.00758725]),\n",
              " array([ 0.07738998,  0.07587253,  0.1016692 , ...,  0.04855842,\n",
              "         0.04704097, -0.0030349 ]),\n",
              " array([0.0060698 , 0.01669196, 0.04097117, ..., 0.04552352, 0.07132018,\n",
              "        0.06373293]),\n",
              " array([ 0.08497724,  0.06676783,  0.01365706, ..., -0.05159332,\n",
              "        -0.0091047 , -0.0030349 ]),\n",
              " array([0.08497724, 0.08649469, 0.04855842, ..., 0.03945372, 0.04704097,\n",
              "        0.08649469]),\n",
              " array([ 0.1138088 ,  0.06525038,  0.01213961, ...,  0.05159332,\n",
              "         0.03186646, -0.0091047 ]),\n",
              " array([0.03034901, 0.06221548, 0.09408194, ..., 0.09863429, 0.07890744,\n",
              "        0.05007587]),\n",
              " array([0.06221548, 0.10015175, 0.08345979, ..., 0.03793627, 0.06221548,\n",
              "        0.06069803]),\n",
              " array([-0.03490137, -0.09863429, -0.14567527, ...,  0.02731411,\n",
              "         0.05311077,  0.04704097]),\n",
              " array([-0.00151745, -0.01062215, -0.02276176, ..., -0.07132018,\n",
              "        -0.01213961,  0.05462822]),\n",
              " array([-0.10925645, -0.15022762, -0.16084977, ...,  0.07738998,\n",
              "         0.06221548,  0.01820941]),\n",
              " array([-0.17147193, -0.17298938, -0.17450683, ...,  0.05311077,\n",
              "         0.0091047 , -0.04400607]),\n",
              " array([-0.1107739 , -0.04704097, -0.00151745, ..., -0.07738998,\n",
              "        -0.07435508, -0.03490137]),\n",
              " array([ 0.05918058,  0.07435508,  0.07435508, ..., -0.08345979,\n",
              "        -0.06980273, -0.00151745]),\n",
              " array([0.20637329, 0.20789074, 0.20182094, ..., 0.18512898, 0.18057663,\n",
              "        0.13808801]),\n",
              " array([0.19878604, 0.16995448, 0.19575114, ..., 0.2185129 , 0.15629742,\n",
              "        0.12291351]),\n",
              " array([0.27162367, 0.26100152, 0.25189681, ..., 0.09408194, 0.09711684,\n",
              "        0.13050076]),\n",
              " array([0.18816388, 0.20030349, 0.14871017, ..., 0.15933232, 0.16843703,\n",
              "        0.16084977]),\n",
              " array([0.17450683, 0.14871017, 0.11532625, ..., 0.14567527, 0.17147193,\n",
              "        0.19423369]),\n",
              " array([0.16236722, 0.19119879, 0.20637329, ..., 0.03793627, 0.03945372,\n",
              "        0.03490137]),\n",
              " array([-0.02731411, -0.00455235, -0.00455235, ..., -0.15629742,\n",
              "        -0.12139605, -0.13050076]),\n",
              " array([-0.07587253, -0.04704097, -0.03490137, ..., -0.08952959,\n",
              "        -0.1198786 , -0.09256449]),\n",
              " array([-0.12291351, -0.16084977, -0.18512898, ..., -0.15629742,\n",
              "        -0.1198786 , -0.09559939]),\n",
              " array([-0.06676783, -0.1107739 , -0.107739  , ...,  0.01669196,\n",
              "         0.05159332,  0.02276176]),\n",
              " array([-0.06525038, -0.04855842, -0.04400607, ..., -0.14871017,\n",
              "        -0.17754173, -0.17450683]),\n",
              " array([-0.14567527, -0.17147193, -0.21699545, ..., -0.04704097,\n",
              "        -0.02124431,  0.00758725]),\n",
              " array([-0.07890744, -0.11836115, -0.15174507, ...,  0.15477997,\n",
              "         0.15022762,  0.12291351]),\n",
              " array([0.19878604, 0.22913505, 0.23368741, ..., 0.10015175, 0.11532625,\n",
              "        0.14719272]),\n",
              " array([0.2185129 , 0.2185129 , 0.2124431 , ..., 0.14567527, 0.15174507,\n",
              "        0.15781487]),\n",
              " array([0.20030349, 0.19423369, 0.13353566, ..., 0.16843703, 0.17905918,\n",
              "        0.18057663]),\n",
              " array([0.19423369, 0.16691958, 0.17298938, ..., 0.12594841, 0.215478  ,\n",
              "        0.18209408]),\n",
              " array([0.13201821, 0.12291351, 0.11532625, ..., 0.17602428, 0.14415781,\n",
              "        0.17754173]),\n",
              " array([0.06069803, 0.06525038, 0.08497724, ..., 0.16691958, 0.15781487,\n",
              "        0.14264036]),\n",
              " array([0.15022762, 0.13657056, 0.10318665, ..., 0.18209408, 0.2124431 ,\n",
              "        0.17602428])]"
            ]
          },
          "metadata": {},
          "execution_count": 26
        }
      ],
      "source": [
        "new"
      ]
    },
    {
      "cell_type": "code",
      "execution_count": 27,
      "metadata": {
        "id": "D8sBw-U9OsXK",
        "colab": {
          "base_uri": "https://localhost:8080/"
        },
        "outputId": "4502f863-67c5-4dfd-ec09-3e355e808d52"
      },
      "outputs": [
        {
          "output_type": "execute_result",
          "data": {
            "text/plain": [
              "581"
            ]
          },
          "metadata": {},
          "execution_count": 27
        }
      ],
      "source": [
        "len(new)"
      ]
    },
    {
      "cell_type": "code",
      "source": [
        "new_X=[]\n",
        "import random\n",
        "p = random.sample(new, 10)\n",
        "for i in p: \n",
        "   new_X.append(p)\n",
        " "
      ],
      "metadata": {
        "id": "x9_3HL3WNy2T"
      },
      "execution_count": 28,
      "outputs": []
    },
    {
      "cell_type": "code",
      "source": [
        "len(new_X)"
      ],
      "metadata": {
        "colab": {
          "base_uri": "https://localhost:8080/"
        },
        "id": "wK8QEOiCOeZ9",
        "outputId": "71e4df76-0de1-4d51-8eec-ce56d7e6ebd9"
      },
      "execution_count": 29,
      "outputs": [
        {
          "output_type": "execute_result",
          "data": {
            "text/plain": [
              "10"
            ]
          },
          "metadata": {},
          "execution_count": 29
        }
      ]
    },
    {
      "cell_type": "code",
      "source": [
        "new_X = np.array(new_X)[0]"
      ],
      "metadata": {
        "id": "M9fH0PivP-aw"
      },
      "execution_count": 30,
      "outputs": []
    },
    {
      "cell_type": "code",
      "source": [
        "new_X.shape"
      ],
      "metadata": {
        "colab": {
          "base_uri": "https://localhost:8080/"
        },
        "id": "as4BVHyaQk1w",
        "outputId": "87191737-77b1-4269-86cf-c704c98508cb"
      },
      "execution_count": 31,
      "outputs": [
        {
          "output_type": "execute_result",
          "data": {
            "text/plain": [
              "(10, 3000)"
            ]
          },
          "metadata": {},
          "execution_count": 31
        }
      ]
    },
    {
      "cell_type": "code",
      "source": [
        "X_ALL_AFTER_AUG = np.append(X_all, new_X, axis=0)"
      ],
      "metadata": {
        "id": "8b_uCGsqOL3z"
      },
      "execution_count": 32,
      "outputs": []
    },
    {
      "cell_type": "code",
      "source": [
        "type(new_X)"
      ],
      "metadata": {
        "colab": {
          "base_uri": "https://localhost:8080/"
        },
        "id": "aiIYHDeZPTeP",
        "outputId": "3f0b7e2a-34e0-4642-df10-911dcc7896a7"
      },
      "execution_count": 33,
      "outputs": [
        {
          "output_type": "execute_result",
          "data": {
            "text/plain": [
              "numpy.ndarray"
            ]
          },
          "metadata": {},
          "execution_count": 33
        }
      ]
    },
    {
      "cell_type": "code",
      "source": [
        "X_ALL_AFTER_AUG.shape"
      ],
      "metadata": {
        "colab": {
          "base_uri": "https://localhost:8080/"
        },
        "id": "IcOgx5pAR99X",
        "outputId": "796821db-2027-4b56-d7e3-caab9fcab248"
      },
      "execution_count": 34,
      "outputs": [
        {
          "output_type": "execute_result",
          "data": {
            "text/plain": [
              "(591, 3000)"
            ]
          },
          "metadata": {},
          "execution_count": 34
        }
      ]
    },
    {
      "cell_type": "markdown",
      "source": [
        "# **Step2**\n",
        "\n",
        "apply Signal transformation using Short-time Fourier "
      ],
      "metadata": {
        "id": "n3xVznh0PX4J"
      }
    },
    {
      "cell_type": "code",
      "source": [
        "!pip install librosa"
      ],
      "metadata": {
        "colab": {
          "base_uri": "https://localhost:8080/"
        },
        "id": "Ve-WnyCwMLBE",
        "outputId": "445564b5-715e-439d-dfc1-e54e6193677d"
      },
      "execution_count": 35,
      "outputs": [
        {
          "output_type": "stream",
          "name": "stdout",
          "text": [
            "Looking in indexes: https://pypi.org/simple, https://us-python.pkg.dev/colab-wheels/public/simple/\n",
            "Requirement already satisfied: librosa in /usr/local/lib/python3.8/dist-packages (0.8.1)\n",
            "Requirement already satisfied: resampy>=0.2.2 in /usr/local/lib/python3.8/dist-packages (from librosa) (0.4.2)\n",
            "Requirement already satisfied: joblib>=0.14 in /usr/local/lib/python3.8/dist-packages (from librosa) (1.2.0)\n",
            "Requirement already satisfied: audioread>=2.0.0 in /usr/local/lib/python3.8/dist-packages (from librosa) (3.0.0)\n",
            "Requirement already satisfied: scikit-learn!=0.19.0,>=0.14.0 in /usr/local/lib/python3.8/dist-packages (from librosa) (1.0.2)\n",
            "Requirement already satisfied: packaging>=20.0 in /usr/local/lib/python3.8/dist-packages (from librosa) (23.0)\n",
            "Requirement already satisfied: soundfile>=0.10.2 in /usr/local/lib/python3.8/dist-packages (from librosa) (0.11.0)\n",
            "Requirement already satisfied: scipy>=1.0.0 in /usr/local/lib/python3.8/dist-packages (from librosa) (1.7.3)\n",
            "Requirement already satisfied: pooch>=1.0 in /usr/local/lib/python3.8/dist-packages (from librosa) (1.6.0)\n",
            "Requirement already satisfied: decorator>=3.0.0 in /usr/local/lib/python3.8/dist-packages (from librosa) (4.4.2)\n",
            "Requirement already satisfied: numpy>=1.15.0 in /usr/local/lib/python3.8/dist-packages (from librosa) (1.21.6)\n",
            "Requirement already satisfied: numba>=0.43.0 in /usr/local/lib/python3.8/dist-packages (from librosa) (0.56.4)\n",
            "Requirement already satisfied: importlib-metadata in /usr/local/lib/python3.8/dist-packages (from numba>=0.43.0->librosa) (6.0.0)\n",
            "Requirement already satisfied: setuptools in /usr/local/lib/python3.8/dist-packages (from numba>=0.43.0->librosa) (57.4.0)\n",
            "Requirement already satisfied: llvmlite<0.40,>=0.39.0dev0 in /usr/local/lib/python3.8/dist-packages (from numba>=0.43.0->librosa) (0.39.1)\n",
            "Requirement already satisfied: requests>=2.19.0 in /usr/local/lib/python3.8/dist-packages (from pooch>=1.0->librosa) (2.25.1)\n",
            "Requirement already satisfied: appdirs>=1.3.0 in /usr/local/lib/python3.8/dist-packages (from pooch>=1.0->librosa) (1.4.4)\n",
            "Requirement already satisfied: threadpoolctl>=2.0.0 in /usr/local/lib/python3.8/dist-packages (from scikit-learn!=0.19.0,>=0.14.0->librosa) (3.1.0)\n",
            "Requirement already satisfied: cffi>=1.0 in /usr/local/lib/python3.8/dist-packages (from soundfile>=0.10.2->librosa) (1.15.1)\n",
            "Requirement already satisfied: pycparser in /usr/local/lib/python3.8/dist-packages (from cffi>=1.0->soundfile>=0.10.2->librosa) (2.21)\n",
            "Requirement already satisfied: chardet<5,>=3.0.2 in /usr/local/lib/python3.8/dist-packages (from requests>=2.19.0->pooch>=1.0->librosa) (4.0.0)\n",
            "Requirement already satisfied: urllib3<1.27,>=1.21.1 in /usr/local/lib/python3.8/dist-packages (from requests>=2.19.0->pooch>=1.0->librosa) (1.24.3)\n",
            "Requirement already satisfied: idna<3,>=2.5 in /usr/local/lib/python3.8/dist-packages (from requests>=2.19.0->pooch>=1.0->librosa) (2.10)\n",
            "Requirement already satisfied: certifi>=2017.4.17 in /usr/local/lib/python3.8/dist-packages (from requests>=2.19.0->pooch>=1.0->librosa) (2022.12.7)\n",
            "Requirement already satisfied: zipp>=0.5 in /usr/local/lib/python3.8/dist-packages (from importlib-metadata->numba>=0.43.0->librosa) (3.12.1)\n"
          ]
        }
      ]
    },
    {
      "cell_type": "code",
      "source": [
        "import librosa.display"
      ],
      "metadata": {
        "id": "eTjTh9h5uuMa"
      },
      "execution_count": 36,
      "outputs": []
    },
    {
      "cell_type": "code",
      "source": [
        "S=[]\n",
        "for i in X_ALL_AFTER_AUG:\n",
        "  signal = np.abs(librosa.stft(i))\n",
        "  S.append(signal)  \n",
        "\n"
      ],
      "metadata": {
        "id": "9Is6CwCJ7L4P"
      },
      "execution_count": 37,
      "outputs": []
    },
    {
      "cell_type": "markdown",
      "source": [
        "Let's plot a signal from X_aLL after applying STFT on it."
      ],
      "metadata": {
        "id": "NKR9YbJIMwat"
      }
    },
    {
      "cell_type": "code",
      "source": [
        "fig, ax = plt.subplots()\n",
        "img = librosa.display.specshow(librosa.amplitude_to_db(S[7],\n",
        "                                                       ref=np.max),\n",
        "                               y_axis='log', x_axis='time', ax=ax)\n",
        "ax.set_title('Power spectrogram')\n",
        "fig.colorbar(img, ax=ax, format=\"%+2.0f dB\")"
      ],
      "metadata": {
        "colab": {
          "base_uri": "https://localhost:8080/",
          "height": 312
        },
        "id": "nAdSbeeXE97Y",
        "outputId": "d68c6dc5-7fd3-468f-b436-99b6e4e7e77f"
      },
      "execution_count": 38,
      "outputs": [
        {
          "output_type": "execute_result",
          "data": {
            "text/plain": [
              "<matplotlib.colorbar.Colorbar at 0x7f5a02ed6bb0>"
            ]
          },
          "metadata": {},
          "execution_count": 38
        },
        {
          "output_type": "display_data",
          "data": {
            "text/plain": [
              "<Figure size 432x288 with 2 Axes>"
            ],
            "image/png": "[encoded data removed]"
          },
          "metadata": {
            "needs_background": "light"
          }
        }
      ]
    },
    {
      "cell_type": "code",
      "source": [
        "fig, ax = plt.subplots()\n",
        "img = librosa.display.specshow(librosa.amplitude_to_db(S[6],\n",
        "                                                       ref=np.max),\n",
        "                               y_axis='log', x_axis='time', ax=ax)\n",
        "ax.set_title('Power spectrogram')\n",
        "fig.colorbar(img, ax=ax, format=\"%+2.0f dB\")"
      ],
      "metadata": {
        "colab": {
          "base_uri": "https://localhost:8080/",
          "height": 312
        },
        "id": "dMQk8UQB1-hF",
        "outputId": "dbbac005-e588-4a68-dea6-66fc2b2fd7b6"
      },
      "execution_count": 39,
      "outputs": [
        {
          "output_type": "execute_result",
          "data": {
            "text/plain": [
              "<matplotlib.colorbar.Colorbar at 0x7f5a029fb8b0>"
            ]
          },
          "metadata": {},
          "execution_count": 39
        },
        {
          "output_type": "display_data",
          "data": {
            "text/plain": [
              "<Figure size 432x288 with 2 Axes>"
            ],
            "image/png": "[encoded data removed]"
          },
          "metadata": {
            "needs_background": "light"
          }
        }
      ]
    },
    {
      "cell_type": "code",
      "source": [
        "fig, ax = plt.subplots()\n",
        "img = librosa.display.specshow(librosa.amplitude_to_db(S[19],\n",
        "                                                       ref=np.max),\n",
        "                               y_axis='log', x_axis='time', ax=ax)\n",
        "ax.set_title('Power spectrogram')\n",
        "fig.colorbar(img, ax=ax, format=\"%+2.0f dB\")"
      ],
      "metadata": {
        "colab": {
          "base_uri": "https://localhost:8080/",
          "height": 312
        },
        "id": "dqUbWkcqPQy3",
        "outputId": "aa38f11d-c57b-45b2-afc8-d789083c04a5"
      },
      "execution_count": 40,
      "outputs": [
        {
          "output_type": "execute_result",
          "data": {
            "text/plain": [
              "<matplotlib.colorbar.Colorbar at 0x7f5a0292b130>"
            ]
          },
          "metadata": {},
          "execution_count": 40
        },
        {
          "output_type": "display_data",
          "data": {
            "text/plain": [
              "<Figure size 432x288 with 2 Axes>"
            ],
            "image/png": "[encoded data removed]"
          },
          "metadata": {
            "needs_background": "light"
          }
        }
      ]
    },
    {
      "cell_type": "code",
      "source": [],
      "metadata": {
        "id": "AOjksklrPSjh"
      },
      "execution_count": null,
      "outputs": []
    }
  ],
  "metadata": {
    "accelerator": "GPU",
    "colab": {
      "provenance": []
    },
    "gpuClass": "standard",
    "kernelspec": {
      "display_name": "Python 3",
      "language": "python",
      "name": "python3"
    },
    "language_info": {
      "codemirror_mode": {
        "name": "ipython",
        "version": 3
      },
      "file_extension": ".py",
      "mimetype": "text/x-python",
      "name": "python",
      "nbconvert_exporter": "python",
      "pygments_lexer": "ipython3",
      "version": "3.8.5"
    }
  },
  "nbformat": 4,
  "nbformat_minor": 0
}